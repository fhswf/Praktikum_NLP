{
 "cells": [
  {
   "cell_type": "markdown",
   "id": "9ef05a92-2bc2-42bc-9927-ba71c208bdf9",
   "metadata": {},
   "source": [
    "## Topic-Mining mit BERTopic\n",
    "\n",
    "In diesem Praktikum geht es darum, die Themen der **Debatten im Deutschen Bundestag** zu analysieren.\n",
    "\n",
    "Die Debatten laden wir dabei über das [API des Dokumentations- und Informationssystems für Parlamentsmaterialien (DIP)](https://dip.bundestag.de/%C3%BCber-dip/hilfe/api) des Deutschen Bundestages.\n",
    "Bitte beachten Sie die [Nutzungsbedingungen](https://dip.bundestag.de/%C3%BCber-dip/nutzungsbedingungen), falls Sie die Daten über das Praktikum hinaus nutzen möchten."
   ]
  },
  {
   "cell_type": "code",
   "execution_count": null,
   "id": "6b694978-46bc-409c-9c77-317dc951f105",
   "metadata": {
    "tags": []
   },
   "outputs": [],
   "source": [
    "%pip install deutschland[dip-bundestag] protobuf==3.20 bertopic pillow dotenv openai"
   ]
  },
  {
   "cell_type": "code",
   "execution_count": null,
   "id": "9e5c01ad-e7da-4300-a8c7-2c18eadecced",
   "metadata": {},
   "outputs": [],
   "source": [
    "%load_ext dotenv"
   ]
  },
  {
   "cell_type": "code",
   "execution_count": null,
   "id": "087404b7-5e8e-4cbe-98fe-b92c2ce1f8e6",
   "metadata": {},
   "outputs": [],
   "source": [
    "%dotenv /home/archive/nlp/.env"
   ]
  },
  {
   "cell_type": "markdown",
   "id": "f5057aa3-1aa4-4826-bd7d-5d4237a482b6",
   "metadata": {},
   "source": [
    "In den Verzeichnissen `xml_crawler` bzw. `parser` befinden sich ein Crawler sowie ein Parser, um die Debatten im XML-Format herunterzuladen und weiterzuverarbeiten.\n",
    "\n",
    "Alternativ können Sie weiter unten das \"fertige\" `DataFrame` (Stand 5. Juni 2025) als CSV-Datei laden."
   ]
  },
  {
   "cell_type": "code",
   "execution_count": null,
   "id": "4f742093-e1f0-4c3d-9835-42cccb477e28",
   "metadata": {
    "tags": []
   },
   "outputs": [],
   "source": [
    "from xml_crawler.crawler import BTP_XML_Crawler\n",
    "from parser.btp_parser import SpeechParser\n",
    "import pandas as pd"
   ]
  },
  {
   "cell_type": "code",
   "execution_count": null,
   "id": "17ae826e-f671-4f76-8448-7f42ad94d5de",
   "metadata": {
    "tags": []
   },
   "outputs": [],
   "source": [
    "speeches = []\n",
    "for u in BTP_XML_Crawler():\n",
    "    with open(u, \"r\") as xml:\n",
    "        data = SpeechParser.parse(xml.read())\n",
    "        speeches += data"
   ]
  },
  {
   "cell_type": "code",
   "execution_count": null,
   "id": "3a7b480b-dcee-4119-9a45-3f9f75967c07",
   "metadata": {
    "tags": []
   },
   "outputs": [],
   "source": [
    "df = pd.DataFrame(speeches)"
   ]
  },
  {
   "cell_type": "code",
   "execution_count": null,
   "id": "78f0951b-382e-4322-a20b-3af6fe6e786a",
   "metadata": {
    "tags": []
   },
   "outputs": [],
   "source": [
    "df['text'][0]"
   ]
  },
  {
   "cell_type": "markdown",
   "id": "e00fb72a-dab0-44d0-ae13-86350c0864d0",
   "metadata": {},
   "source": [
    "Für jeden Redebeitrag haben wir folgende Informationen:\n",
    "\n",
    "| Feld | Beschreibung|\n",
    "|------|-------------|\n",
    "| **top_id** | Id des Tagesordnungspunkts |\n",
    "| **speech_id** | Id des Redebeitrags. Enthält u.a. die Wahlperiode und die Sitzungsnummer |\n",
    "| **speaker_id** | Id des/der Sprecher*in |\n",
    "| **date** | Datum der Rede |\n",
    "| **type** | Immer `rede` |\n",
    "| **text** | Text des Redebeitrags |"
   ]
  },
  {
   "cell_type": "code",
   "execution_count": null,
   "id": "b8ac9b31-1502-4109-9958-3b91b8fe617e",
   "metadata": {},
   "outputs": [],
   "source": [
    "df"
   ]
  },
  {
   "cell_type": "markdown",
   "id": "1f380b50-305d-4d96-b893-90619e8672bb",
   "metadata": {},
   "source": [
    "Für die weitere Verwendung speichern wir die Daten als Parquet-Datei."
   ]
  },
  {
   "cell_type": "code",
   "execution_count": null,
   "id": "cedfcee0-26e7-4d2e-bd98-32f88a0924fd",
   "metadata": {
    "tags": []
   },
   "outputs": [],
   "source": [
    "df.to_parquet('debatten.parquet')"
   ]
  },
  {
   "cell_type": "code",
   "execution_count": null,
   "id": "662370a4-ce6c-4f80-8631-a889f399d430",
   "metadata": {
    "tags": []
   },
   "outputs": [],
   "source": [
    "import pandas as pd\n",
    "\n",
    "df = pd.read_parquet('debatten.parquet')"
   ]
  },
  {
   "cell_type": "markdown",
   "id": "135e7f70-8dab-401b-90fc-82e4df59d831",
   "metadata": {},
   "source": [
    "### Aufgabe 1: Themenmodellierung mit BERTopic\n",
    "\n",
    "- **Ziel**: Wenden Sie BERTopic auf den Datensatz der Debattenbeiträge an, um relevante Themen zu identifizieren.\n",
    "- **Schritte**:\n",
    "  1. Vorverarbeitung der Textdaten (ist schon durch den Parser erfolgt).\n",
    "  2. Erstellen Sie ein BERTopic-Modell und trainieren Sie es mit den vorverarbeiteten Textdaten.\n",
    "     Verwenden Sie dabei `bertopic.representation.OpenAI` als [*Representation Model*](https://maartengr.github.io/BERTopic/getting_started/representation/representation.html).\n",
    "  2. [Speichern Sie das Modell](https://maartengr.github.io/BERTopic/getting_started/serialization/serialization.html).\n",
    "\n",
    "Wie viele Themen identifiziert Ihr Modell?"
   ]
  },
  {
   "cell_type": "code",
   "execution_count": null,
   "id": "554f3780-d1f9-4aee-9285-7d806120b144",
   "metadata": {},
   "outputs": [],
   "source": [
    "%env CUDA_VISIBLE_DEVICES=1"
   ]
  },
  {
   "cell_type": "code",
   "execution_count": null,
   "id": "3d70677b-44e2-4b4d-b9ce-c608290a30d7",
   "metadata": {
    "tags": []
   },
   "outputs": [],
   "source": [
    "import openai\n",
    "from bertopic import BERTopic\n",
    "from bertopic.representation import OpenAI\n",
    "\n",
    "# Fine-tune topic representations with GPT\n",
    "client = openai.OpenAI()\n",
    "representation_model = OpenAI(client, model=\"gpt-4o-mini\", chat=True)\n",
    "topic_model = BERTopic(representation_model=representation_model)"
   ]
  },
  {
   "cell_type": "code",
   "execution_count": null,
   "id": "96cb4fe4-359d-4158-85ef-03e70e7edccc",
   "metadata": {
    "tags": []
   },
   "outputs": [],
   "source": [
    "topics, probs = topic_model.fit_transform(df['text'])"
   ]
  },
  {
   "cell_type": "markdown",
   "id": "4ecc13e1-6d32-45bc-ae12-048c4d4288ce",
   "metadata": {},
   "source": [
    "### Aufgabe 2: Themenvisualisierung\n",
    "- **Ziel:** Visualisieren Sie die identifizierten Themen mithilfe von BERTopic-Visualisierungstools.\n",
    "- **Schritte:**\n",
    "  1. Verwenden Sie die Funktion `get_topic_info()` von BERTopic, um Informationen zu den Themen zu erhalten.\n",
    "  2. Erstellen Sie mit `visualize_topics()` eine \"Landkarte\" der Themen.\n",
    "     Beachten Sie, dass Sie die Visualisierung als HTML speichern und anschließend mit `IPython.display.HTML` anzeigen müssen, da sonst die Anzeige in Jupyter nicht funktioniert.\n",
    "     Schauen Sie sich die \"Verortung\" der Themen an: Passt diese aus Ihrer Sicht? Liegen ähnliche/verwandte Themen nah beieinander?\n",
    "  4. Analysieren Sie die Häufigkeit der Themen.\n",
    "\n"
   ]
  },
  {
   "cell_type": "code",
   "execution_count": null,
   "id": "e0ba71c6-dc1f-4e25-b3f5-88e2299d11d4",
   "metadata": {},
   "outputs": [],
   "source": [
    "topic_model.get_topic_info()"
   ]
  },
  {
   "cell_type": "code",
   "execution_count": null,
   "id": "3641d0a7-8336-4e4b-a367-462198a85776",
   "metadata": {},
   "outputs": [],
   "source": [
    "fig = topic_model.visualize_topics()\n",
    "\n",
    "fig.write_html(\"my_visualization.html\")\n",
    "\n",
    "# Show the figure\n",
    "from IPython.display import HTML\n",
    "HTML(filename=\"my_visualization.html\")"
   ]
  },
  {
   "cell_type": "markdown",
   "id": "8bbedc5e-3ce3-4460-bf2f-5e0fa8fbfdc9",
   "metadata": {},
   "source": [
    "### Aufgabe 3: Zeitliche Entwicklung der Themen\n",
    "- **Ziel:** Analysieren Sie, wie sich die Themen über die Zeit hinweg verändert haben.\n",
    "- **Schritte:**\n",
    "  1. Extrahieren Sie das Datum der Debattenbeiträge aus dem DataFrame.\n",
    "  2. Erstellen Sie eine Zeitreihe, die darstellt, wie oft jedes Thema in verschiedenen Zeitintervallen (z.B. monatlich) auftaucht.\n",
    "  3. Visualisieren Sie die Ergebnisse in einem Zeitdiagramm, wobei die Themen farblich hervorgehoben werden."
   ]
  },
  {
   "cell_type": "markdown",
   "id": "cbcca9cc-9805-4b4d-ad7d-63518e00c980",
   "metadata": {},
   "source": [
    "### Aufgabe 4: Weitere Analysen\n",
    "- **Ziel:** Untersuchen Sie die Themen und die Debatten genauer, etwa anhand folgender Fragestellungen:\n",
    "    - Gibt es Themen, an denen sich einzelne Parteien stärker oder weniger intensiv beteiligen?\n",
    "    - Gibt es Debattenthemen, an denen sich männliche bzw. weibliche Abgeordnete häufiger zu Wort melden?  \n",
    "- **Schritte:**\n",
    "  Hier können Sie sich \"austoben\". Die Stammdaten der Abgeordneten finden Sie im Verzeichnis `stammdaten`."
   ]
  },
  {
   "cell_type": "code",
   "execution_count": null,
   "id": "eab744da-574d-4e8a-af39-d4e5bea072d6",
   "metadata": {},
   "outputs": [],
   "source": []
  }
 ],
 "metadata": {
  "kernelspec": {
   "display_name": "Python 3 (ipykernel)",
   "language": "python",
   "name": "python3"
  },
  "language_info": {
   "codemirror_mode": {
    "name": "ipython",
    "version": 3
   },
   "file_extension": ".py",
   "mimetype": "text/x-python",
   "name": "python",
   "nbconvert_exporter": "python",
   "pygments_lexer": "ipython3",
   "version": "3.11.6"
  }
 },
 "nbformat": 4,
 "nbformat_minor": 5
}
