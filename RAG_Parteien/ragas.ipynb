{
 "cells": [
  {
   "cell_type": "markdown",
   "id": "d41eb8ea-7951-4c3c-a484-7c77e083caf1",
   "metadata": {},
   "source": [
    "## Erzeugung von Testdaten mittels *Ragas*\n",
    "\n",
    "In dieser Übung geht es darum, mittels [Ragas](https://docs.ragas.io/) automatisch Testfragen zu den Wahlprogrammen der Parteien zu erstellen. \n",
    "Dabei wollen wir zwei Aspekte anpassen:\n",
    "\n",
    "- Wir wollen konkrete *Personas* für die Testragen vorgeben,\n",
    "- die Fragen sollen auf Deutsch erstellt werden."
   ]
  },
  {
   "cell_type": "code",
   "execution_count": null,
   "id": "2827fc52-9f22-4938-91ee-a5791704b3bc",
   "metadata": {},
   "outputs": [],
   "source": [
    "!pip install  --upgrade langchain langchain-community langchain_chroma langchain_openai langchain_unstructured  unstructured[pdf] chromadb ragas"
   ]
  },
  {
   "cell_type": "code",
   "execution_count": 15,
   "id": "91a8ee0f-5980-4751-8452-0a20f9b186ba",
   "metadata": {},
   "outputs": [],
   "source": [
    "import chromadb\n",
    "import os\n",
    "from collections import defaultdict\n",
    "from tqdm import tqdm\n",
    "from pathlib import Path\n",
    "from dotenv import load_dotenv, find_dotenv\n",
    "from langchain_core.documents import Document\n",
    "from langchain_chroma import Chroma\n",
    "from langchain_openai import OpenAIEmbeddings, ChatOpenAI\n",
    "from langchain_text_splitters import RecursiveCharacterTextSplitter\n",
    "from langchain_community.document_loaders import PyPDFLoader, Docx2txtLoader\n",
    "from langchain_unstructured.document_loaders import UnstructuredLoader\n",
    "from langchain.retrievers.multi_query import MultiQueryRetriever\n",
    "from langchain.retrievers.document_compressors.flashrank_rerank import FlashrankRerank\n",
    "from langchain.retrievers.contextual_compression import ContextualCompressionRetriever\n",
    "from langchain.prompts import ChatPromptTemplate\n",
    "from langchain.chains import create_retrieval_chain\n",
    "from langchain.chains.combine_documents import create_stuff_documents_chain\n",
    "from unstructured.partition.pdf import partition_pdf\n",
    "from unstructured.chunking.title import chunk_by_title\n",
    "from unstructured.chunking.basic import chunk_elements\n",
    "from unstructured.documents.elements import Image"
   ]
  },
  {
   "cell_type": "markdown",
   "id": "7008ea4a-047c-4dea-bc8c-4c2276be8ba0",
   "metadata": {},
   "source": [
    "Wir verwenden wieder die `.env` Datei aus dem letzten Praktikum."
   ]
  },
  {
   "cell_type": "code",
   "execution_count": 18,
   "id": "fc31d886-7aac-43e6-82db-ed3a22a4e9c5",
   "metadata": {},
   "outputs": [],
   "source": [
    "load_dotenv(find_dotenv())\n",
    "\n",
    "OPENAI_API_KEY = os.getenv(\"OPENAI_API_KEY\")\n",
    "#RAGAS_APP_TOKEN = os.getenv(\"RAGAS_APP_TOKEN\")\n",
    "DATABASE_PATH = \"./chroma/\"\n",
    "EMBEDDING_MODEL = \"text-embedding-ada-002\""
   ]
  },
  {
   "cell_type": "markdown",
   "id": "26ed6045-5ad0-411f-bd0b-c8903d34759d",
   "metadata": {},
   "source": [
    "**Bitte ändern Sie das voreingestellte Modell *nicht*!!**"
   ]
  },
  {
   "cell_type": "code",
   "execution_count": 19,
   "id": "3c815414-c74b-4ca4-99e2-eda9441cf760",
   "metadata": {},
   "outputs": [],
   "source": [
    "from ragas.llms import LangchainLLMWrapper\n",
    "from ragas.embeddings import LangchainEmbeddingsWrapper\n",
    "from langchain_openai import ChatOpenAI\n",
    "from langchain_openai import OpenAIEmbeddings\n",
    "generator_llm = LangchainLLMWrapper(ChatOpenAI(model=\"gpt-4o-mini\"))\n",
    "generator_embeddings = LangchainEmbeddingsWrapper(OpenAIEmbeddings())"
   ]
  },
  {
   "cell_type": "markdown",
   "id": "99708c36-3831-440d-a600-7c37f00f96c7",
   "metadata": {},
   "source": [
    "### Laden der Parteiprogramme\n",
    "\n",
    "Wir laden zunächst die Dateien. Prüfen Sie anschließend, ob alle Dokumente geladen wurden."
   ]
  },
  {
   "cell_type": "code",
   "execution_count": 16,
   "id": "f1b8270d-f6f5-4348-8ecf-970ba692e532",
   "metadata": {},
   "outputs": [],
   "source": [
    "from langchain_community.document_loaders import DirectoryLoader\n",
    "\n",
    "path = \"./data/\"\n",
    "loader = DirectoryLoader(path, glob=\"**/*.pdf\")\n",
    "docs = loader.load()"
   ]
  },
  {
   "cell_type": "markdown",
   "id": "a7eeb76d-35ec-464f-90a2-d233da507f6d",
   "metadata": {},
   "source": [
    "### Generieren eines Testdatensatzes mit Default-Einstellungen"
   ]
  },
  {
   "cell_type": "code",
   "execution_count": null,
   "id": "3b5f85c3-7a4a-4f4d-9654-83e5f64cd242",
   "metadata": {},
   "outputs": [],
   "source": [
    "from ragas.testset import TestsetGenerator\n",
    "\n",
    "generator = TestsetGenerator(llm=generator_llm, embedding_model=generator_embeddings)\n",
    "dataset = generator.generate_with_langchain_docs(docs, testset_size=10)"
   ]
  },
  {
   "cell_type": "markdown",
   "id": "90ed2f7a-dd21-4dcb-ab5d-5790ca4a993e",
   "metadata": {},
   "source": [
    "### Bewertung des Testsets\n",
    "\n",
    "Wandeln Sie das Testset in ein Pandas Dataframe und schauen Sie sich die Fragen an.\n",
    "\n",
    "- Wie viele sind auf Deutsch?\n",
    "- Welche Haltung/Einstellung würden Sie bei einem menschlichen Fragesteller jeweils vermuten?\n",
    "- Sind die Fragen \"neutral\" oder kommt die Haltung einer Partei zum Ausdruck? "
   ]
  },
  {
   "cell_type": "code",
   "execution_count": null,
   "id": "c9e5016f-8a40-4144-b80d-963aa1b9547c",
   "metadata": {},
   "outputs": [],
   "source": []
  },
  {
   "cell_type": "markdown",
   "id": "8479930d-e128-4d26-80af-46d8413cfc2f",
   "metadata": {},
   "source": [
    "### Customizing der Testset-Generierung\n",
    "\n",
    "Fügen Sie weitere *Personas* hinzu, die unterschiedliche Bevölkerungsgruppen und politische Ansichten wiederspiegeln."
   ]
  },
  {
   "cell_type": "code",
   "execution_count": null,
   "id": "3b9f8957-de53-468d-a46e-f68acee19f41",
   "metadata": {},
   "outputs": [],
   "source": [
    "from ragas.testset.persona import Persona\n",
    "\n",
    "personas = [\n",
    "    Persona(\n",
    "        name=\"Dorfbewohner aus einem ländlichen Gebiet\",\n",
    "        role_description=\"Ein Bürger aus einem ländlichen Gebiet, der sich um die Infrastruktur auf dem Land sorgt und im Alltag auf den Individualverkehr angewiesen ist.\",\n",
    "    ),\n",
    "]"
   ]
  },
  {
   "cell_type": "code",
   "execution_count": 21,
   "id": "da081096-86c7-4775-b2e8-d634106a5915",
   "metadata": {},
   "outputs": [],
   "source": [
    "generator = TestsetGenerator(\n",
    "    llm=generator_llm, embedding_model=generator_embeddings, persona_list=personas\n",
    ")"
   ]
  },
  {
   "cell_type": "code",
   "execution_count": 22,
   "id": "e34e76d2-a606-49cc-b273-dd7d16cbca2d",
   "metadata": {},
   "outputs": [],
   "source": [
    "from ragas.testset.synthesizers.single_hop.specific import (\n",
    "    SingleHopSpecificQuerySynthesizer,\n",
    ")\n",
    "\n",
    "distribution = [\n",
    "    (SingleHopSpecificQuerySynthesizer(llm=generator_llm), 1.0),\n",
    "]"
   ]
  },
  {
   "cell_type": "markdown",
   "id": "370d762c-97b4-41a5-9637-6aa7efe45353",
   "metadata": {},
   "source": [
    "Schauen Sie sich die erzeugte `distribution` an. Was fällt Ihnen auf?"
   ]
  },
  {
   "cell_type": "markdown",
   "id": "297f43b7-9f10-4cad-a1fe-aef03c8128e8",
   "metadata": {},
   "source": [
    "Wir passen nun die Sprache der Testerzeugung an."
   ]
  },
  {
   "cell_type": "code",
   "execution_count": 24,
   "id": "5f77ed92-f39b-480b-bbb5-a7615f198a33",
   "metadata": {},
   "outputs": [],
   "source": [
    "for query, _ in distribution:\n",
    "    prompts = await query.adapt_prompts(\"deutsch\", llm=generator_llm)\n",
    "    query.set_prompts(**prompts)"
   ]
  },
  {
   "cell_type": "markdown",
   "id": "f9557789-cffd-46e5-9eeb-ce78db42f24b",
   "metadata": {},
   "source": [
    "Was hat sich geändert?"
   ]
  },
  {
   "cell_type": "code",
   "execution_count": null,
   "id": "8b8342a0-5dbb-440e-9ce5-a59f86d04362",
   "metadata": {},
   "outputs": [],
   "source": [
    "dataset = generator.generate_with_langchain_docs(\n",
    "    docs,\n",
    "    testset_size=5,\n",
    "    query_distribution=distribution,\n",
    ")"
   ]
  },
  {
   "cell_type": "markdown",
   "id": "727f1540-1b86-4079-919c-b6ffa490b50a",
   "metadata": {},
   "source": [
    "Vergleichen Sie das neu erzeugte Testset:\n",
    "\n",
    "- Inwiefern spiegeln sich die Personas in den Fragen wieder?\n",
    "- Wie viele Fragen sind auf Deutsch?\n",
    "- Vergleichen Sie Ihre Personas und Testsets mit denen Ihrer Kommilitonen. Wie beurteilen Sie die Qualität der erstellten Testfragen?  "
   ]
  }
 ],
 "metadata": {
  "kernelspec": {
   "display_name": "Python 3 (ipykernel)",
   "language": "python",
   "name": "python3"
  },
  "language_info": {
   "codemirror_mode": {
    "name": "ipython",
    "version": 3
   },
   "file_extension": ".py",
   "mimetype": "text/x-python",
   "name": "python",
   "nbconvert_exporter": "python",
   "pygments_lexer": "ipython3",
   "version": "3.11.6"
  }
 },
 "nbformat": 4,
 "nbformat_minor": 5
}
