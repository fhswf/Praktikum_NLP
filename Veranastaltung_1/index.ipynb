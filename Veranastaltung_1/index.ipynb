{
 "cells": [
  {
   "cell_type": "markdown",
   "id": "21dc3826-60ec-46e9-b914-0d4cfc14a7aa",
   "metadata": {},
   "source": [
    "## Textklassifikation\n",
    "\n",
    "Die Klassifikation von Texten ist einer der zentralen Anwendungsfälle von NLP. \n",
    "Er begegnet uns ständig, etwa in Form eines Spam-Filters in unserem Email-Client oder bei der Intent-Erkennung bei einem Sprachassistenten.\n",
    "\n",
    "Gleichzeitig eignet sich die Textklassifikation als Beispiel dafür, welche Fortschritte in den letzten Jahren im Bereich NLP gemacht wurden,\n",
    "etwa bei der Vektorisierung mit *Word2Vec* oder dem Einsatz von transformer-basierten Modellen wie *BERT*.\n",
    "\n",
    "Wir werden als Beispiel die Daten aus dem Wettbewerb *GermEval 2018* (s. `../data/GermEval-2018`) verwenden."
   ]
  },
  {
   "cell_type": "code",
   "execution_count": null,
   "id": "bd425534-c99c-4f53-8d79-c8a25f889adf",
   "metadata": {},
   "outputs": [],
   "source": []
  }
 ],
 "metadata": {
  "kernelspec": {
   "display_name": "Python 3 (ipykernel)",
   "language": "python",
   "name": "python3"
  },
  "language_info": {
   "codemirror_mode": {
    "name": "ipython",
    "version": 3
   },
   "file_extension": ".py",
   "mimetype": "text/x-python",
   "name": "python",
   "nbconvert_exporter": "python",
   "pygments_lexer": "ipython3",
   "version": "3.10.6"
  }
 },
 "nbformat": 4,
 "nbformat_minor": 5
}
