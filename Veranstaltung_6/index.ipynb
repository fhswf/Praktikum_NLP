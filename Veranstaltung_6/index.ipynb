{
 "cells": [
  {
   "cell_type": "markdown",
   "id": "1ac460f1",
   "metadata": {},
   "source": [
    "<a href=\"https://www.ki.fh-swf.de/jupyterhub/hub/user-redirect/git-pull?profile=nlp-environment&repo=https%3A%2F%2Fgithub.com%2Ffhswf%2FPraktikum_NLP.git&urlpath=lab%2Ftree%2FPraktikum_NLP.git%2FVeranstaltung_6%2Findex.ipynb&branch=main&profile=nlp-environment\" style=\"\"><img src=\"https://www.ki.fh-swf.de/cluster_badge.svg\" style=\"height: 32px\" alt=\"Open in FH Cluster\"></a>\n",
    "\n",
    "# Textzusammenfassung mit *Transformern*\n",
    "\n",
    "Seit ChatGPT sind von LLMs regelrecht „verwöhnt“. Was können einfachere Modelle im Vergleich dazu leisten, speziell für die deutsche Sprache?\n",
    "\n",
    "## Aufgabe 1: Zusammenfassung deutscher Texte mit vortrainierten Transformermodellen\n",
    "\n",
    "Im Verzeichnis `texte` gibt es einige (deutschsprachige) Textdateien. \n",
    "\n",
    "1. Auswahl geeigneter Modelle\n",
    "   \n",
    "   Auf dem [Model Hub](https://huggingface.co/models) gibt es eine ganze Reihe von Modellen für `Summarization`. Suchen Sie sich einige geeignete Kandidaten für **deutsche** Texte.\n",
    "\n",
    "2. Pipeline für die Zusammenfassung\n",
    "\n",
    "    Mithilfe der Huggingface-Bibliotheken ist das Erstellen einer `pipeline` für die Zusammenfassung ganz einfach:  \n",
    "\n",
    "    ```Python\n",
    "    from transformers import pipeline\n",
    "\n",
    "    summarizer = pipeline(\"summarization\", model=model_name)\n",
    "    summary = summarizer(text, max_length=250, min_length=25, do_sample=True)\n",
    "    \n",
    "    ```\n",
    "\n",
    "3. Zusammenfassung der Texte & Bewertung der Ergebnisse\n",
    "   Erstellen Sie mithilfe der Modelle Zusammenfassingen der Texte. Bewerten Sie in Ihren Gruppen die Ergebnisse.\n",
    "   Welche Einschränkungen stellen Sie fest?\n",
    "   \n",
    "## Aufgabe 2: Vergleich mit ChatGPT\n",
    "\n",
    "(Chat-)GPT ist zwar nicht speziell für die Zusammenfassung von Texten trainiert, kann das aber auch ganz gut.\n",
    "\n",
    "![](Summary_GPT4.png)\n",
    "\n",
    "Testen Sie die Zusammenfassung mittels ChatGPT und vergleichen Sie die Ergebnisse mit denen aus Aufgabe 1."
   ]
  }
 ],
 "metadata": {
  "kernelspec": {
   "display_name": "Python 3 (ipykernel)",
   "language": "python",
   "name": "python3"
  },
  "language_info": {
   "codemirror_mode": {
    "name": "ipython",
    "version": 3
   },
   "file_extension": ".py",
   "mimetype": "text/x-python",
   "name": "python",
   "nbconvert_exporter": "python",
   "pygments_lexer": "ipython3",
   "version": "3.10.8"
  }
 },
 "nbformat": 4,
 "nbformat_minor": 5
}
