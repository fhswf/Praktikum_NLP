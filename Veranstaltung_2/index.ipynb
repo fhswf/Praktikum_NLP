{
 "cells": [
  {
   "cell_type": "markdown",
   "id": "21dc3826-60ec-46e9-b914-0d4cfc14a7aa",
   "metadata": {},
   "source": [
    "# Textklassifikation, Teil 2\n",
    "\n",
    "Im ersten Teil haben wir Texte aus dem Datensatz *GermEval 2018* mithilfe von Frequency-Vektoren und einem Naive-Bayes-Klassifikator klassifiziert.\n",
    "\n",
    "Dieses Mal verwenden wir ein vortrainiertes *Word2Vec* Modell und wollen untersuchen, ob wir damit bessere Ergebnisse erzielen."
   ]
  },
  {
   "cell_type": "markdown",
   "id": "6068a489-3553-4e3a-a262-644fbabe3308",
   "metadata": {},
   "source": [
    "## Daten einlesen\n",
    "\n",
    "Wie beim letzten Mal lesen wir zunächst die Daten ein."
   ]
  },
  {
   "cell_type": "code",
   "execution_count": null,
   "id": "95a2f351-30b1-453f-8a1e-61bc5911a45d",
   "metadata": {},
   "outputs": [],
   "source": [
    "import pandas as pd\n",
    "\n",
    "train_ds = pd.read_csv('../data/GermEval-2018/germeval2018.training.txt', sep='\\t', header=None, names=['text', 'coarse', 'fine'])\n",
    "test_ds = pd.read_csv('../data/GermEval-2018/germeval2018.test.txt', sep='\\t', header=None, names=['text', 'coarse', 'fine'])"
   ]
  },
  {
   "cell_type": "code",
   "execution_count": null,
   "id": "1db8cf6b-7154-4ab3-b558-96fb5f957cfe",
   "metadata": {},
   "outputs": [],
   "source": [
    "train_ds"
   ]
  },
  {
   "cell_type": "markdown",
   "id": "afd3b27d-4cec-4308-8943-1c1ebde8d802",
   "metadata": {},
   "source": [
    "## Texte bereinigen\n",
    "\n",
    "Auch die Bereinigung der Texte hatten wir schon beim letzten Mal."
   ]
  },
  {
   "cell_type": "code",
   "execution_count": null,
   "id": "b6fb4753-5947-4983-9d07-6c5643d4b9a3",
   "metadata": {},
   "outputs": [],
   "source": [
    "import re\n",
    "\n",
    "def clean_tweet(text):\n",
    "    \"\"\" Preprocess and tokenize a tweet. \"\"\"\n",
    "    \n",
    "    # remove handles, i.e. @username\n",
    "    text = re.sub('\\@\\w+', '', text)\n",
    "\n",
    "    # remove hashtags, quotes, etc.\n",
    "    text = re.sub('[\\#\"\\']+', '', text)\n",
    "    \n",
    "    # replace hyphens with blanks\n",
    "    text = text.replace('-', ' ')\n",
    "    return text"
   ]
  },
  {
   "cell_type": "code",
   "execution_count": null,
   "id": "a06ef57e-8191-402c-864b-d44ca111b739",
   "metadata": {},
   "outputs": [],
   "source": [
    "train_ds['text'] = train_ds['text'].map(clean_tweet)\n",
    "test_ds['text'] = test_ds['text'].map(clean_tweet)"
   ]
  },
  {
   "cell_type": "markdown",
   "id": "aca42c9c-bbba-4e92-9226-beac24a7239b",
   "metadata": {},
   "source": [
    "## Word2Vec-Modell laden\n",
    "\n",
    "Die Datei `twitter-de_d100_w5_min10.bin` enthält ein mit deuschen Twitternachrichten trainiertes *Word2Vec* Modell, das wir nun laden."
   ]
  },
  {
   "cell_type": "code",
   "execution_count": null,
   "id": "5810e049-4724-4abe-a5fb-38533b23d279",
   "metadata": {},
   "outputs": [],
   "source": [
    "import gensim \n",
    "\n",
    "w2v = gensim.models.KeyedVectors.load_word2vec_format('/home/archive/nlp/twitter-de_d100_w5_min10.bin', binary=True)"
   ]
  },
  {
   "cell_type": "markdown",
   "id": "069c8ea9-1aeb-4e34-af96-93f525261c85",
   "metadata": {},
   "source": [
    "## Aufgabe 1: Wortähnlichkeiten\n",
    "\n",
    "Der Vorteil von Word2Vec ist, dass die generierten Embeddings die Bedeutung von Worten widerspiegeln.\n",
    "Nutzen Sie die Methode `most_similar` des Modells, um ähnliche Worte für folgende Begriffe zu finden:\n",
    "\n",
    "- Stümper\n",
    "- Merkel\n",
    "- Hetze"
   ]
  },
  {
   "cell_type": "code",
   "execution_count": null,
   "id": "266b2af6-d887-4e18-aa53-d3836223cba0",
   "metadata": {},
   "outputs": [],
   "source": [
    "from sklearn.pipeline import Pipeline\n",
    "from sklearn.feature_extraction.text import CountVectorizer, TfidfVectorizer\n",
    "from sklearn.naive_bayes import GaussianNB\n",
    "from sklearn import metrics\n",
    "\n",
    "\n",
    "def evaluate(classifier):\n",
    "    \"\"\"Evaluiere einen classifier auf den Testdaten\"\"\"\n",
    "    predicted = classifier.predict(test_ds['text'])\n",
    "    print(f\"Confusion matrix:\\n{metrics.confusion_matrix(test_ds['coarse'], predicted)}\")\n",
    "    print(f\"{metrics.classification_report(test_ds['coarse'], predicted)}\")\n",
    "    return np.mean(predicted == test_ds['coarse'])\n",
    "    "
   ]
  },
  {
   "cell_type": "markdown",
   "id": "50171915-5ae9-4d78-89ba-f26ff67ea89b",
   "metadata": {},
   "source": [
    "## Aufgabe 2: Wortvektoren zur Textklassifikation\n",
    "\n",
    "Wir wollen nun untersuchen, inwiefern die Wortvektoren uns bei der Klassifikation der Tweets helfen. Die folgende Klasse \n",
    "`EmbeddingVectorizer` ordnet jedem Text den \"Durchnittsvektor\" seiner Worte zu. Dazu verwendet sie die Methode `get_mean_vector`.\n",
    "\n",
    "Verwenden Sie den `EmbeddingVectorizer` und einen `LinearSVC`, um die Tweets zu klassifizieren.\n",
    "\n",
    "Trainieren Sie den Klassifikator auf den Trainingsdaten und evaluieren Sie ihn auf den Testdaten. \n",
    "Wie gut ist Ihr Ergebnis? Vergleichen Sie Ihr Ergebnis mit dem Ergebnis vom letzten Mal und den [Ergebnissen des GermEval-2018](../data/GermEval-2018/results.pdf)."
   ]
  },
  {
   "cell_type": "code",
   "execution_count": null,
   "id": "3dc9dff9-6e9f-488b-8001-027c5bfcdc86",
   "metadata": {},
   "outputs": [],
   "source": [
    "from sklearn.base import BaseEstimator\n",
    "import nltk\n",
    "import numpy as np\n",
    "\n",
    "class EmbeddingVectorizer(BaseEstimator):\n",
    "    \"\"\"Convert a collection of text documents to a matrix of vectors created from word embeddings \"\"\"\n",
    "    \n",
    "    def __init__(self, model):\n",
    "        self.model = model\n",
    "        self.tokenizer = nltk.tokenize.casual.TweetTokenizer()\n",
    "    \n",
    "        \n",
    "    def fit(self, X, y, **fit_params):\n",
    "        \"\"\"Nothing to do here, we use a pre-trained model. \"\"\"\n",
    "        return self\n",
    "    \n",
    "    def transform(self, raw_documents):\n",
    "        \"\"\"Transform documents to embedding matrix by mean of the embeddings\n",
    "        of individual words.\n",
    "        \"\"\"\n",
    "        if isinstance(raw_documents, str):\n",
    "            raise ValueError(\n",
    "                \"Iterable over raw text documents expected, \"\n",
    "                \"string object received.\")\n",
    "\n",
    "        _X = []\n",
    "        for doc in raw_documents:\n",
    "            words = self.tokenizer.tokenize(doc)\n",
    "            _X.append(self.model.get_mean_vector(words))\n",
    "            \n",
    "        X = np.array(_X)\n",
    "        return X"
   ]
  },
  {
   "cell_type": "code",
   "execution_count": null,
   "id": "8906fe69-ef61-404b-b2a1-6209e6aa6ff3",
   "metadata": {},
   "outputs": [],
   "source": [
    "vectorizer = EmbeddingVectorizer(w2v)"
   ]
  }
 ],
 "metadata": {
  "kernelspec": {
   "display_name": "Python 3 (ipykernel)",
   "language": "python",
   "name": "python3"
  },
  "language_info": {
   "codemirror_mode": {
    "name": "ipython",
    "version": 3
   },
   "file_extension": ".py",
   "mimetype": "text/x-python",
   "name": "python",
   "nbconvert_exporter": "python",
   "pygments_lexer": "ipython3",
   "version": "3.11.6"
  }
 },
 "nbformat": 4,
 "nbformat_minor": 5
}
