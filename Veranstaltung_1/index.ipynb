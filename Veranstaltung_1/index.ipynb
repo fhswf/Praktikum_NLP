{
 "cells": [
  {
   "cell_type": "markdown",
   "id": "21dc3826-60ec-46e9-b914-0d4cfc14a7aa",
   "metadata": {},
   "source": [
    "# Textklassifikation\n",
    "\n",
    "Die Klassifikation von Texten ist einer der zentralen Anwendungsfälle von NLP. \n",
    "Er begegnet uns ständig, etwa in Form eines Spam-Filters in unserem Email-Client oder bei der Intent-Erkennung bei einem Sprachassistenten.\n",
    "\n",
    "Gleichzeitig eignet sich die Textklassifikation als Beispiel dafür, welche Fortschritte in den letzten Jahren im Bereich NLP gemacht wurden,\n",
    "etwa bei der Vektorisierung mit *Word2Vec* oder dem Einsatz von transformer-basierten Modellen wie *BERT*.\n",
    "\n",
    "Wir werden als Beispiel die Daten aus dem Wettbewerb *GermEval 2018* (s. `../data/GermEval-2018`) verwenden."
   ]
  },
  {
   "cell_type": "markdown",
   "id": "560aea75-962a-411f-8155-1922c406a2b5",
   "metadata": {},
   "source": [
    "## Aufgabe 1: Lesen & Aufbereiten der Texte\n",
    "\n",
    "Um die Texte zu klassifizieren, müssen wir die Trainingsdaten lesen und aufbereiten. Schauen Sie sich dazu zunächst die ersten 10 Trainingsdatensätze an (s. folgende Zelle)."
   ]
  },
  {
   "cell_type": "code",
   "execution_count": 3,
   "id": "d034bd57-8451-4706-b457-112555fdeb4d",
   "metadata": {},
   "outputs": [
    {
     "name": "stdout",
     "output_type": "stream",
     "text": [
      "@corinnamilborn Liebe Corinna, wir würden dich gerne als Moderatorin für uns gewinnen! Wärst du begeisterbar?\tOTHER\tOTHER\n",
      "@Martin28a Sie haben ja auch Recht. Unser Tweet war etwas missverständlich. Dass das BVerfG Sachleistungen nicht ausschließt, kritisieren wir.\tOTHER\tOTHER\n",
      "@ahrens_theo fröhlicher gruß aus der schönsten stadt der welt theo ⚓️\tOTHER\tOTHER\n",
      "@dushanwegner Amis hätten alles und jeden gewählt...nur Hillary wollten sie nicht und eine Fortsetzung von Obama-Politik erst recht nicht..!\tOTHER\tOTHER\n",
      "@spdde kein verläßlicher Verhandlungspartner. Nachkarteln nach den Sondierzngsgesprächen - schickt diese Stümper #SPD in die Versenkung.\tOFFENSE\tINSULT\n",
      "@Dirki_M Ja, aber wo widersprechen die Zahlen denn denen, die im von uns verlinkten Artikel stehen? In unserem Tweet geht es rein um subs. Geschützte. 2017 ist der gesamte Familiennachzug im Vergleich zu 2016 - die Zahlen, die Hr. Brandner bemüht - übrigens leicht rückläufig gewesen.\tOTHER\tOTHER\n",
      "@milenahanm 33 bis 45 habe ich noch gar nicht gelebt und es geht mir am Arsch vorbei was in dieser Zeit geschehen ist. Ich lebe im heute und jetzt und nicht in der Vergangenheit.\tOFFENSE\tPROFANITY\n",
      "@jayxderxmensch @jayxthexhuman Wieso? Was findest du da unklar?\tOTHER\tOTHER\n",
      "@tagesschau Euere AfD Hetze wirkt. Da könnt ihr stolz sein bei #ARD-Fernsehen\tOFFENSE\tABUSE\n",
      "Deutsche Medien, Halbwahrheiten und einseitige Betrachtung, wie bei allen vom Staat finanzierten \"billigen\" Propagandainstitutionen 😜\tOFFENSE\tABUSE\n"
     ]
    }
   ],
   "source": [
    "!head -10 ../data/GermEval-2018/germeval2018.training.txt"
   ]
  },
  {
   "cell_type": "markdown",
   "id": "d6dded17-a8cb-4ea0-9abb-0b74ab9fde0e",
   "metadata": {},
   "source": [
    "### Aufgabe 1.1: Auffälligkeiten in den Texten\n",
    "\n",
    "Was fällt Ihnen an den Texten auf? Welche Bestandteile sollten ggf. aus den Trainingsdaten entfernt werden, da sie das Training verfälschen würden?\n",
    "Welche anderen Bereinigungen könnten sinnvoll sein?\n",
    "\n",
    "> 💡 **Tipp:** \n",
    "> Fragen Sie gerne auch ChatGPT, was man bei der Bereinigung der Texte tun sollte. "
   ]
  },
  {
   "cell_type": "markdown",
   "id": "96a01a7a-7ace-4b95-85bd-02d9910bc0a1",
   "metadata": {},
   "source": [
    "### Aufgabe 1.2: Lesen der Trainings- und Testdatensätze\n",
    "\n",
    "Die Trainingsdaten liegen als Textdatei mit drei durch `TAB` getrennten Spalten vor.\n",
    "\n",
    "| TEXT | COARSE | FINE |\n",
    "| ---- | ------ | ---- |\n",
    "| @corinnamilborn Liebe Corinna, wir würden dich gerne als Moderatorin für uns gewinnen! Wärst du begeisterbar?  | OTHER | OTHER |\n",
    "| @Martin28a Sie haben ja auch Recht. Unser Tweet war etwas missverständlich. Dass das BVerfG Sachleistungen nicht ausschließt, kritisieren wir. | OTHER | OTHER |\n",
    "| @ahrens_theo fröhlicher gruß aus der schönsten stadt der welt theo ⚓️ | OTHER | OTHER |\n",
    "| @dushanwegner Amis hätten alles und jeden gewählt...nur Hillary wollten sie nicht und eine Fortsetzung von Obama-Politik erst recht nicht..! | OTHER | OTHER |\n",
    "| @spdde kein verläßlicher Verhandlungspartner. Nachkarteln nach den Sondierzngsgesprächen - schickt diese Stümper #SPD in die Versenkung. | OFFENSE | INSULT | \n",
    "\n",
    "Lesen Sie die Daten und wandeln Sie ihn in eine Liste von `namedtuple` mit den Feldern `text`, `coarse_label` und `fine_label` um.\n",
    "\n",
    "> 💡 **Tipp:** \n",
    "> ChatGPT kann Ihnen beim Code sicher helfen"
   ]
  },
  {
   "cell_type": "code",
   "execution_count": 1,
   "id": "54d2a71f-d04c-456f-bdb2-5df739e2c96b",
   "metadata": {},
   "outputs": [
    {
     "name": "stdout",
     "output_type": "stream",
     "text": [
      "TweetData(text='@Martin28a Sie haben ja auch Recht. Unser Tweet war etwas missverständlich. Dass das BVerfG Sachleistungen nicht ausschließt, kritisieren wir.', coarse_label='OTHER', fine_label='OTHER')\n",
      "TweetData(text='@ahrens_theo fröhlicher gruß aus der schönsten stadt der welt theo ⚓️', coarse_label='OTHER', fine_label='OTHER')\n",
      "TweetData(text='@dushanwegner Amis hätten alles und jeden gewählt...nur Hillary wollten sie nicht und eine Fortsetzung von Obama-Politik erst recht nicht..!', coarse_label='OTHER', fine_label='OTHER')\n",
      "TweetData(text='@spdde kein verläßlicher Verhandlungspartner. Nachkarteln nach den Sondierzngsgesprächen - schickt diese Stümper #SPD in die Versenkung.', coarse_label='OFFENSE', fine_label='INSULT')\n",
      "TweetData(text='@Dirki_M Ja, aber wo widersprechen die Zahlen denn denen, die im von uns verlinkten Artikel stehen? In unserem Tweet geht es rein um subs. Geschützte. 2017 ist der gesamte Familiennachzug im Vergleich zu 2016 - die Zahlen, die Hr. Brandner bemüht - übrigens leicht rückläufig gewesen.', coarse_label='OTHER', fine_label='OTHER')\n"
     ]
    }
   ],
   "source": [
    "from collections import namedtuple\n",
    "import csv\n",
    "\n",
    "# Definiert ein namedtuple für die Daten\n",
    "TweetData = namedtuple('TweetData', ['text', 'coarse_label', 'fine_label'])\n",
    "\n",
    "def read_data(filename):\n",
    "    data = []\n",
    "    with open(filename, 'r', encoding='utf-8') as file:\n",
    "        # Verwendet csv.reader zum Lesen der Datei, mit einem Tab als Trennzeichen\n",
    "        reader = csv.reader(file, delimiter='\\t')\n",
    "        next(reader)  # Überspringt die Kopfzeile\n",
    "        for row in reader:\n",
    "            if len(row) == 3:  # Stellt sicher, dass die Zeile die erwartete Anzahl von Elementen enthält\n",
    "                tweet = TweetData(text=row[0], coarse_label=row[1], fine_label=row[2])\n",
    "                data.append(tweet)\n",
    "    return data\n",
    "\n",
    "# Verwenden Sie die Funktion und geben Sie die Daten aus\n",
    "filename = \"../data/GermEval-2018/germeval2018.training.txt\"\n",
    "tweet_data = read_data(filename)\n",
    "\n",
    "# Zum Testen, geben wir die ersten paar Datensätze aus\n",
    "for tweet in tweet_data[:5]:  # Ändern Sie 5, um mehr oder weniger Datensätze auszugeben\n",
    "    print(tweet)"
   ]
  },
  {
   "cell_type": "markdown",
   "id": "ec0e4a9d-647e-482c-b7ef-6b9c85b7b810",
   "metadata": {},
   "source": [
    "### Aufgabe 1.3: Bereinigung der Trainingsdatensätze\n",
    "\n",
    "Setzen Sie **mindestens** die folgenden Textbereinigungen um:\n",
    "\n",
    "- Entfernen von *Twitter-Handles* wie `@corinnamilborn` (Warum ist das sinnvoll?)\n",
    "- Entfernen des Hashtag-Zeichens `#` (Warum ist das sinnvoll?)\n",
    "\n",
    "Zusätzlich können Sie mit anderen Bereinigungen experimentieren (Entfernung Groß- und Kleinschreibung, Stemming, ...). Im Deutschen bringt das allerdings nicht so viel."
   ]
  },
  {
   "cell_type": "code",
   "execution_count": 2,
   "id": "3edc6d20-1cec-4d16-92c3-ab1430eccdc7",
   "metadata": {},
   "outputs": [
    {
     "name": "stdout",
     "output_type": "stream",
     "text": [
      "TweetData(text='sie haben ja auch recht. unser tweet war etwas missverständlich. dass das bverfg sachleistungen nicht ausschließt, kritisieren wir.', coarse_label='OTHER', fine_label='OTHER')\n",
      "TweetData(text='fröhlicher gruß aus der schönsten stadt der welt theo ⚓️', coarse_label='OTHER', fine_label='OTHER')\n",
      "TweetData(text='amis hätten alles und jeden gewählt...nur hillary wollten sie nicht und eine fortsetzung von obama-politik erst recht nicht..!', coarse_label='OTHER', fine_label='OTHER')\n",
      "TweetData(text='kein verläßlicher verhandlungspartner. nachkarteln nach den sondierzngsgesprächen - schickt diese stümper spd in die versenkung.', coarse_label='OFFENSE', fine_label='INSULT')\n",
      "TweetData(text='ja, aber wo widersprechen die zahlen denn denen, die im von uns verlinkten artikel stehen? in unserem tweet geht es rein um subs. geschützte. 2017 ist der gesamte familiennachzug im vergleich zu 2016 - die zahlen, die hr. brandner bemüht - übrigens leicht rückläufig gewesen.', coarse_label='OTHER', fine_label='OTHER')\n"
     ]
    }
   ],
   "source": [
    "import re\n",
    "from collections import namedtuple\n",
    "import csv\n",
    "\n",
    "# Definiert ein namedtuple für die Daten\n",
    "TweetData = namedtuple('TweetData', ['text', 'coarse_label', 'fine_label'])\n",
    "\n",
    "def clean_text(text):\n",
    "    # Entfernt Twitter-Handles\n",
    "    text = re.sub(r'@\\w+', '', text)\n",
    "    # Entfernt das Hashtag-Zeichen, behält aber das Wort bei\n",
    "    text = text.replace('#', '')\n",
    "    # Hier könnten weitere Bereinigungsschritte hinzugefügt werden, wie z.B. das Entfernen von URLs, Zahlen etc.\n",
    "    text = text.lower()  # Optional: Konvertierung in Kleinbuchstaben\n",
    "    return text.strip()  # Entfernt führende und abschließende Leerzeichen\n",
    "\n",
    "def read_data(filename):\n",
    "    data = []\n",
    "    with open(filename, 'r', encoding='utf-8') as file:\n",
    "        reader = csv.reader(file, delimiter='\\t')\n",
    "        next(reader)  # Überspringt die Kopfzeile\n",
    "        for row in reader:\n",
    "            if len(row) == 3:\n",
    "                cleaned_text = clean_text(row[0])\n",
    "                tweet = TweetData(text=cleaned_text, coarse_label=row[1], fine_label=row[2])\n",
    "                data.append(tweet)\n",
    "    return data\n",
    "\n",
    "# Liest Daten und bereinigt sie\n",
    "filename = \"../data/GermEval-2018/germeval2018.training.txt\"\n",
    "tweet_data = read_data(filename)\n",
    "\n",
    "# Gibt die ersten paar Datensätze aus, zum Testen\n",
    "for tweet in tweet_data[:5]:\n",
    "    print(tweet)"
   ]
  },
  {
   "cell_type": "markdown",
   "id": "ca16b3aa-039e-4f6e-9248-f81666a1657e",
   "metadata": {},
   "source": [
    "### Aufgabe 1.4: Training eines Naive-Bayes-Klassifikators\n",
    "\n",
    "Mithilfe von `scikit-learn` ist es sehr einfach, eine Naive-Bayes-Klassifikator zu trainieren. Sie benötigen im einfachsten Fall nur den\n",
    "[`CountVectorizer`](https://scikit-learn.org/stable/modules/generated/sklearn.feature_extraction.text.CountVectorizer.html) zur Vektorisierung und \n",
    "[`MultinomialNB`](https://scikit-learn.org/stable/modules/generated/sklearn.naive_bayes.MultinomialNB.html) für die Klassifikation zu einer Pipeline zu verbinden.\n",
    "\n",
    "> 💡 **Tipp:** \n",
    "> Auch hier kann ChatGPT Ihnen beim Code helfen ...\n",
    "\n",
    "Trainieren Sie den Klassifikator auf den Trainingsdaten und messen Sie die Accuracy auf den Testdaten. Wie gut ist Ihr Ergebnis? Vergleichen Sie Ihr Ergebnis mit den [Ergebnissen des GermEval-2018](../data/GermEval-2018/results.pdf)."
   ]
  },
  {
   "cell_type": "code",
   "execution_count": 7,
   "id": "b8c75942-2584-4884-a3f1-ca4fcadb500f",
   "metadata": {},
   "outputs": [
    {
     "data": {
      "text/plain": [
       "2"
      ]
     },
     "execution_count": 7,
     "metadata": {},
     "output_type": "execute_result"
    }
   ],
   "source": []
  },
  {
   "cell_type": "code",
   "execution_count": null,
   "id": "67e2e47b-e8da-42ec-a49a-b78f0324cae5",
   "metadata": {},
   "outputs": [],
   "source": []
  }
 ],
 "metadata": {
  "kernelspec": {
   "display_name": "Python 3 (ipykernel)",
   "language": "python",
   "name": "python3"
  },
  "language_info": {
   "codemirror_mode": {
    "name": "ipython",
    "version": 3
   },
   "file_extension": ".py",
   "mimetype": "text/x-python",
   "name": "python",
   "nbconvert_exporter": "python",
   "pygments_lexer": "ipython3",
   "version": "3.11.6"
  }
 },
 "nbformat": 4,
 "nbformat_minor": 5
}
