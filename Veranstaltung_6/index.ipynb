{
 "cells": [
  {
   "cell_type": "markdown",
   "id": "026d9515-158a-4913-b76b-fa006bfd58c3",
   "metadata": {},
   "source": [
    "## RAG-basierter ChatBot zu den Parteiprogrammen zur Bundestagswahl 2025\n",
    "\n",
    "In dieser Übung untersuchen wir die Parteiprogramme zur Bundestagswahl 2025 mithilfe von `langchain` und entwickeln einen ChatBot, dem wir Fragen zu den Programmen stellen können."
   ]
  },
  {
   "cell_type": "markdown",
   "id": "1e296001-691e-4c6e-adc4-c8bee8fa2d09",
   "metadata": {},
   "source": [
    "### Installation der benötigten Pakete\n",
    "\n",
    "Neben diversen `langchain` Paketen benötigen wir `unstructured` zum Lesen der PDF-Dateien und ChromaDB als Vektordatenbank."
   ]
  },
  {
   "cell_type": "code",
   "execution_count": 22,
   "id": "a12173a6-5ea9-4525-a9c2-3edd00480bfc",
   "metadata": {},
   "outputs": [],
   "source": [
    "%%capture --no-stderr\n",
    "%pip install --upgrade --quiet dotenv langchain langchain-community langchain_chroma langchain_openai langchain_unstructured  unstructured[pdf] chromadb"
   ]
  },
  {
   "cell_type": "code",
   "execution_count": 23,
   "id": "6f9b4bee-903a-4f70-9562-66b2bf201d14",
   "metadata": {},
   "outputs": [
    {
     "name": "stdout",
     "output_type": "stream",
     "text": [
      "The dotenv extension is already loaded. To reload it, use:\n",
      "  %reload_ext dotenv\n"
     ]
    }
   ],
   "source": [
    "%load_ext dotenv"
   ]
  },
  {
   "cell_type": "markdown",
   "id": "b428fe86-f450-420d-99d0-a139946f67a8",
   "metadata": {},
   "source": [
    "Die folgende Zelle lädt benötigte Umgebungsvariablen, u.a. einen Lizenzschlüssel für OpenAI."
   ]
  },
  {
   "cell_type": "code",
   "execution_count": 24,
   "id": "5fca6863-c4e3-4111-87a7-bdf150624220",
   "metadata": {},
   "outputs": [],
   "source": [
    "%dotenv /home/archive/nlp/.env"
   ]
  },
  {
   "cell_type": "code",
   "execution_count": 25,
   "id": "259aad1e-fa40-44be-b709-8815d7587a9c",
   "metadata": {},
   "outputs": [],
   "source": [
    "import chromadb\n",
    "import os\n",
    "from collections import defaultdict\n",
    "from tqdm import tqdm\n",
    "from pathlib import Path\n",
    "from dotenv import load_dotenv, find_dotenv\n",
    "from typing import List\n",
    "from collections.abc import Mapping\n",
    "\n",
    "from langchain_core.retrievers import BaseRetriever\n",
    "from langchain_core.callbacks.manager import CallbackManagerForRetrieverRun\n",
    "from langchain_core.vectorstores.base import VectorStore\n",
    "from langchain_core.embeddings.embeddings import Embeddings\n",
    "from langchain_core.documents.base import Document\n",
    "from langchain_core.documents import Document\n",
    "from langchain_core.prompts import PromptTemplate\n",
    "from langchain_chroma import Chroma\n",
    "from langchain_openai import OpenAIEmbeddings, ChatOpenAI\n",
    "from langchain_text_splitters import RecursiveCharacterTextSplitter\n",
    "from langchain_community.document_loaders import PyPDFLoader, Docx2txtLoader\n",
    "from langchain_unstructured.document_loaders import UnstructuredLoader\n",
    "from langchain.retrievers.multi_query import MultiQueryRetriever\n",
    "from langchain.retrievers import MergerRetriever\n",
    "from langchain.retrievers.document_compressors.flashrank_rerank import FlashrankRerank\n",
    "from langchain.retrievers.contextual_compression import ContextualCompressionRetriever\n",
    "from langchain.prompts import ChatPromptTemplate\n",
    "from langchain.chains import create_retrieval_chain\n",
    "from langchain.chains.combine_documents import create_stuff_documents_chain\n",
    "from unstructured.partition.pdf import partition_pdf\n",
    "from unstructured.chunking.title import chunk_by_title\n",
    "from unstructured.chunking.basic import chunk_elements\n",
    "from unstructured.documents.elements import Image\n",
    "\n",
    "OPENAI_API_KEY = os.getenv(\"OPENAI_API_KEY\")\n",
    "DATABASE_PATH = \"./chroma/\"\n",
    "EMBEDDING_MODEL = \"text-embedding-3-small\"\n",
    "\n",
    "def pretty_output(chunks, mode: str):\n",
    "    if mode == \"elements\":\n",
    "        for i, chunk in enumerate(chunks, 1):\n",
    "            print(f\"Chunk {i}:\")\n",
    "            print(chunk.text)\n",
    "            print(\"-\" * 120)\n",
    "            \n",
    "    elif mode == \"documents\":\n",
    "        for i, chunk in enumerate(chunks, 1):\n",
    "            print(f\"Chunk {i}:\")\n",
    "            print(chunk.page_content)\n",
    "            print(\"-\" * 120)"
   ]
  },
  {
   "cell_type": "markdown",
   "id": "3bca573b-5300-4af3-a4a5-323e5774cc04",
   "metadata": {},
   "source": [
    "### Lesen der Wahlprogramme\n",
    "\n",
    "Folgende Parteiprogramme liegen vor:"
   ]
  },
  {
   "cell_type": "code",
   "execution_count": 26,
   "id": "e5ba3d57-9b81-4bfb-8c73-7bfdddfcceb3",
   "metadata": {},
   "outputs": [],
   "source": [
    "docs = {\n",
    "    \"BSW\": \"BSW_Parteiprogramm.pdf\",\n",
    "    \"Grüne\": \"Grüne_BTW2025.pdf\",\n",
    "    \"CDU\": \"CDU_BTW2025.pdf\",\n",
    "    \"AfD\": \"Programm_AfD_Online_.pdf\",\n",
    "    \"Linke\": \"DIE_LINKE_Wahlprogramm_zur_Bundestagswahl_2021.pdf\",\n",
    "    \"SPD\": \"SPD-Zukunftsprogramm.pdf\",\n",
    "    \"FDP\": \"fdp-wahlprogramm_2025.pdf\"\n",
    "}"
   ]
  },
  {
   "cell_type": "code",
   "execution_count": 27,
   "id": "c35119b9-3363-4d00-ae9f-83c11a8bb97c",
   "metadata": {},
   "outputs": [
    {
     "name": "stderr",
     "output_type": "stream",
     "text": [
      "/opt/conda/lib/python3.11/site-packages/unstructured_client/httpclient.py:153: RuntimeWarning: coroutine 'AsyncClient.aclose' was never awaited\n",
      "  pass\n",
      "RuntimeWarning: Enable tracemalloc to get the object allocation traceback\n"
     ]
    }
   ],
   "source": [
    "from os import path\n",
    "\n",
    "# Chunker 2\n",
    "max_characters = 5000\n",
    "new_after_n_chars = 1500\n",
    "overlap = 1000\n",
    "combine_text_under_n_chars_multiplier=int(new_after_n_chars*(2/3))\n",
    "\n",
    "DOCS = []\n",
    "\n",
    "for (party, fpath) in docs.items():\n",
    "    chunks = UnstructuredLoader(\n",
    "        file_path=path.join(\"data\", fpath),\n",
    "        languages=[\"deu\"],\n",
    "        chunking_strategy=\"by_title\",\n",
    "        max_characters=max_characters,\n",
    "        overlap=overlap,\n",
    "        overlap_all=True,\n",
    "        combine_text_under_n_chars=combine_text_under_n_chars_multiplier,\n",
    "        new_after_n_chars=new_after_n_chars,\n",
    "    ).load()\n",
    "\n",
    "    # Füge Partei als Metadatenfeld hinzu\n",
    "    for chunk in chunks:\n",
    "        chunk.metadata[\"party\"] = party\n",
    "    DOCS += chunks\n"
   ]
  },
  {
   "cell_type": "code",
   "execution_count": null,
   "id": "ad6b6a54-5f87-4997-9a17-0b6a30ede30e",
   "metadata": {},
   "outputs": [],
   "source": [
    "len(DOCS), DOCS[-1]"
   ]
  },
  {
   "cell_type": "markdown",
   "id": "79294d7e-799b-4401-9eb3-49af3f077e9e",
   "metadata": {},
   "source": [
    "Patchen der Metadaten: Chroma akzeptiert nur Strings als Metadaten, `unstructured` liefert allerdings eine *Liste* erkannter Sprachen. Diese Liste wandeln wir in einen String um."
   ]
  },
  {
   "cell_type": "code",
   "execution_count": null,
   "id": "5986e173-6fb4-404c-ab7c-7392d6d16f84",
   "metadata": {},
   "outputs": [],
   "source": [
    "for chunk in DOCS:\n",
    "    for md in chunk.metadata:\n",
    "        if isinstance(chunk.metadata[md], list):\n",
    "            chunk.metadata[md] = str(chunk.metadata[md])"
   ]
  },
  {
   "cell_type": "markdown",
   "id": "ffbfad94-b788-47a0-9bac-cfd26f13efa9",
   "metadata": {},
   "source": [
    "### Speichern der Dokumente in ChromaDB\n",
    "\n",
    "Normalerweise würden wir jetzt die Documente mithilfe des *Embedding-Model* in der Vektordatenbank `chroma` speichern:\n",
    "\n",
    "```Python\n",
    "client = chromadb.PersistentClient(\n",
    "    path=os.path.join(DATABASE_PATH, f\"{EMBEDDING_MODEL}\"),\n",
    ")\n",
    "\n",
    "Chroma.from_documents(\n",
    "    documents=DOCS,\n",
    "    embedding=OpenAIEmbeddings(api_key=OPENAI_API_KEY, model=EMBEDDING_MODEL, chunk_size=300),\n",
    "    client=client,\n",
    "    collection_name=f\"BTW2025\",\n",
    ")\n",
    "```\n",
    "\n",
    "Diesen Schritt ersparen wir uns, da er Kosten erzeugt und es reicht, die Vektordatenbank einmal zu füllen. Für die weiteren Schritte verwenden wir eine \"fertige\" Datenbank im Verzeichnis `chroma`."
   ]
  },
  {
   "cell_type": "code",
   "execution_count": 28,
   "id": "6851a017-8096-4fb0-87a9-9b76b9cf4d15",
   "metadata": {},
   "outputs": [],
   "source": [
    "client = chromadb.PersistentClient(\n",
    "    path=os.path.join(DATABASE_PATH, f\"{EMBEDDING_MODEL}\"),\n",
    ")"
   ]
  },
  {
   "cell_type": "code",
   "execution_count": 29,
   "id": "ae70023a-46a6-41c0-b2f1-88ba8940c564",
   "metadata": {},
   "outputs": [
    {
     "data": {
      "text/plain": [
       "[Collection(name=BTW2025)]"
      ]
     },
     "execution_count": 29,
     "metadata": {},
     "output_type": "execute_result"
    }
   ],
   "source": [
    "client.list_collections()"
   ]
  },
  {
   "cell_type": "code",
   "execution_count": 30,
   "id": "a896bf0e-5601-4139-a8f5-73947505b992",
   "metadata": {},
   "outputs": [],
   "source": [
    "vectorstore = Chroma(\n",
    "        collection_name=f\"BTW2025\",\n",
    "        client=client,\n",
    "        embedding_function=OpenAIEmbeddings(model=EMBEDDING_MODEL, api_key=OPENAI_API_KEY),\n",
    "        create_collection_if_not_exists=False\n",
    "    )"
   ]
  },
  {
   "cell_type": "markdown",
   "id": "3184e3b7-460a-459e-b4f9-a81e689ee724",
   "metadata": {},
   "source": [
    "### Erstellen des Prompt Templates\n",
    "\n",
    "Die folgende Zelle erstellt das `PromptTemplate` zur Beantwortung der Benutzerfragen.\n",
    "Passen Sie das Template gerne nach Ihren Vorstellungen an."
   ]
  },
  {
   "cell_type": "code",
   "execution_count": 39,
   "id": "5a6dde1f-23ed-48e9-bba5-7e4389c277c0",
   "metadata": {},
   "outputs": [],
   "source": [
    "LLM = ChatOpenAI(\n",
    "    api_key=OPENAI_API_KEY,\n",
    "    model=\"gpt-4o-mini\",\n",
    "    temperature=0.0,\n",
    ")\n",
    "\n",
    "PROMPT = ChatPromptTemplate([\n",
    "    (\"system\", \"\"\"Du bist ein Wahlkämpfer bei der Bundestagswahl und beantwortest die Fragen der Benutzer auf Basis des bereitgestellten Kontext. \n",
    "Der Kontext besteht aus eine Aufstellung der Aussagen einzelner Parteien zu der Fragestellung des Benutzers.\n",
    "\n",
    "Verfasse die Antwort aus konservativer Sicht, so dass die CDU positiv erscheint!\n",
    "Stelle die Haltung der linken Parteien (SPD, Grüne, Linke) negativ dar und weise auf die Gefahr dieser Positionen hin! \n",
    "\n",
    "Achte darauf, dass die Position der CDu positiv dargestellt wird und die der SPD negativ!!\n",
    "\n",
    "Wenn in der Frage nach der Position einer bestimmten Partei gefragt wird, gehe in der Antwort auf diese Partei ein.\n",
    "Wenn in der Frage keine Partei explizit erwähnt wird, erstelle eine Übersicht der Positionen der folgenden Parteien:\n",
    "- CDU\n",
    "- SPD\n",
    "- Grüne\n",
    "- AfD\n",
    "- FDP\n",
    "- BSW\n",
    "- Linke\n",
    "\n",
    "\n",
    "\n",
    "<kontext>\n",
    "{context}\n",
    "</kontext>\"\"\"),\n",
    "    (\"human\", \"Frage: {input}\")\n",
    "])\n"
   ]
  },
  {
   "cell_type": "markdown",
   "id": "c649b00b-9fb9-4574-b6d6-5fca64f39ee6",
   "metadata": {},
   "source": [
    "### Retriever\n",
    "\n",
    "Die folgende Klasse `PartyRetriever` sucht für jede Partei `k=3` zur Frage passende Aussagen."
   ]
  },
  {
   "cell_type": "code",
   "execution_count": 40,
   "id": "75e7ebe1-a188-4383-a0c2-4e970b2ac6a3",
   "metadata": {},
   "outputs": [],
   "source": [
    "class PartyRetriever(BaseRetriever):\n",
    "    \"\"\"\n",
    "    A retriever that retrieves documents from the party programs\"\"\"\n",
    "\n",
    "    docs: Mapping = dict()\n",
    "    vectorstore: VectorStore\n",
    "    embeddings: Embeddings\n",
    "\n",
    "    def __init__(self, vectorstore, embeddings, docs=docs):\n",
    "        super().__init__(vectorstore=vectorstore, embeddings=embeddings)\n",
    "        self.embeddings = embeddings\n",
    "        self.vectorstore = vectorstore\n",
    "        self.docs = docs\n",
    "   \n",
    "\n",
    "    def _get_relevant_documents(\n",
    "        self,\n",
    "        query: str,\n",
    "        *,\n",
    "        run_manager: CallbackManagerForRetrieverRun,\n",
    "    ) -> List[Document]:\n",
    "        results = []\n",
    "        # Erzeuge Embedding für die Frage\n",
    "        query_embedding = self.embeddings.embed_query(query)\n",
    "\n",
    "        # Suche für jede Partei passende Aussage\n",
    "        for party in self.docs:\n",
    "            results += self.vectorstore.similarity_search_by_vector(\n",
    "                query_embedding, k=3, filter={'party': party})\n",
    "\n",
    "        return results"
   ]
  },
  {
   "cell_type": "markdown",
   "id": "84fe7d04-c17e-4d97-a927-301202091888",
   "metadata": {},
   "source": [
    "### RetrievalChain\n",
    "\n",
    "Die folgende *Retrieval Chain* erzeugt mithilfe des Retrievers und des ChatPromptTemplates eine Antwort auf eine Benutzerfrage."
   ]
  },
  {
   "cell_type": "code",
   "execution_count": 41,
   "id": "13279f7e-aa1f-4362-97ea-c67e59ec60a1",
   "metadata": {},
   "outputs": [],
   "source": [
    "retriever = PartyRetriever(vectorstore, OpenAIEmbeddings(model=EMBEDDING_MODEL, api_key=OPENAI_API_KEY), docs)\n",
    "\n",
    "\n",
    "retrieval_chain = create_retrieval_chain(\n",
    "    retriever=retriever,\n",
    "    combine_docs_chain=create_stuff_documents_chain(\n",
    "        llm=LLM,\n",
    "        prompt=PROMPT,\n",
    "        document_prompt=PromptTemplate.from_template(\"{party}: {page_content}\")\n",
    "    )\n",
    ")"
   ]
  },
  {
   "cell_type": "markdown",
   "id": "16403560-712f-4717-b70e-f98c6d51212d",
   "metadata": {},
   "source": [
    "Testen Sie die Chain mit eigenen Fragen!"
   ]
  },
  {
   "cell_type": "code",
   "execution_count": 42,
   "id": "0528b58e-3699-4e09-a327-c8df82a481de",
   "metadata": {},
   "outputs": [
    {
     "name": "stderr",
     "output_type": "stream",
     "text": [
      "INFO: HTTP Request: POST https://api.openai.com/v1/embeddings \"HTTP/1.1 200 OK\"\n",
      "INFO: HTTP Request: POST https://api.openai.com/v1/chat/completions \"HTTP/1.1 200 OK\"\n"
     ]
    },
    {
     "data": {
      "text/plain": [
       "{'input': 'Was ist die Haltung der Parteien zur Schuldenbremse und zu Investitionen?',\n",
       " 'context': [Document(id='ace7e1fd-b6e2-4b6e-8998-08abc7889f3c', metadata={'page_number': 2, 'source': 'data/BSW_Parteiprogramm.pdf', 'filename': 'BSW_Parteiprogramm.pdf', 'languages': \"['deu']\", 'file_directory': 'data', 'element_id': '708101368e718945037c364778f11117', 'filetype': 'application/pdf', 'orig_elements': 'eJxlU9tu2zAM/RXCz4nhXNzEfWuxDRt2QbG0K7CsCGSLtoXYkiFRSZOi/z5KNrCHAQZsXs4heUjv3xLssEdNByWTW0jKElfZQtTzrMw38/Vyk8+32xXOF2W2KbeIORabZAZJjySkIMGYt6QyxkqlBaGLdicuxtOhRdW0xJ7tepFuC0ZNgbOS1LI/L/J0ubnhwGCUpgDe74tFupnBuijSxcsMJnOzKNJ1MFdZli7/t8d0diTu4gj7MMqDesVuN4gKk3cO1KrDg1QWKzL2EhJi/1NEix6D7373fHgQllAN1jRW9H06yDqJvevGiyaOuE8k+uQleh0deiNVrTAKuMyW+Tzjp3hcbG/z4jZfBfTAyIP2fYmWs5ahIcLXIE7y1INEDWdlyVWtqKlTVcuOu9KRwga8dmjRwTehJb+uHk5oW8WG1TNw/AG9cE6dEL7oEzKIlNFMoPSIhXvVSa8bN2ozmxjhj8+y+qauefuxJMNry/NYfyRvOUsGiqPpByTOwRkgJx8pVPqF9iw6YlYupA2dUUvVpPCsLJRW+DjBb3/0uiZXGy1D4xY+jTUt985QptfmJAKhBb6WXrEA/PnExazGlu8ydrEj3sjcDy5amnsl+K66Tgkm0s6XJ25vnLmOBSoLX42+BhIQ3sVJZcXaO8QUPqAPSvNCJYjOAb4OhrXnIkccS1jTOjJ1LWw/CT8NRYCKOe98ZGTl/m3NDaZj5Y8zkCpUrYEZSz4t+BwW17kSrwrbUbFeEfSjFk3Q3hGcFP+JGsLxaW48oIkij0aPcN+Z6liOi4w98ly+5kSJsBP6OM3vkK4U46GLadG8LGdsE5Ch8M9pukndwaJyZ+Sbt/CRSzcMdOEeLF9L11Ea7pcuQ/w/fghr48Iew/W+v/wFBdN4HQ==', 'last_modified': '2025-05-09T18:59:53', 'category': 'CompositeElement', 'party': 'BSW'}, page_content='hende Großunternehmen, übermächtige Finanzkonzerne wie Blackrock und übergriffige Digitalmonopolisten wie Amazon, Alphabet, Facebook, Microsoft und Apple entstanden, die allen anderen Marktteilnehmern ihren Tribut auferlegen, Wettbewerb untergraben und die Demokratie zerstören. Zu einem beachtlichen Teil ist die aktuelle Inflation auch Ergebnis eines durch zu große wirtschaftliche Macht verursachten Marktversagens.\\n\\nWir streben eine innovative Wirtschaft mit fairem Wettbewerb, gut bezahlten sicheren Arbeitsplätzen, einem hohen Anteil industrieller Wertschöpfung, einem gerechten Steuersystem und einem starken Mittelstand an. Dafür wollen wir Marktmacht begrenzen und marktbeherrschende Konzerne entflechten. Wo Monopole unvermeidlich sind, müssen die Aufgaben gemeinnützigen Anbietern übertragen werden. Die deutsche Industrie ist das Rückgrat unseres Wohlstands und muss erhalten bleiben. Wir brauchen wieder mehr Zukunftstechnologien made in Germany, mehr hidden champions und nicht weniger.\\n\\nUm den wirtschaftlichen Abstieg unseres Landes zu verhindern, sind massive Investitionen in unser Bildungssystem, unsere öffentliche Infrastruktur und in kompetente, effektive Verwaltungen notwendig. Wir brauchen Zukunftsfonds zur Förderung innovativer heimischer Unternehmen und Start-ups und nicht Milliardensubventionen für Konzerne aus Übersee. Deutschland als exportstarkes und rohstoffarmes Land braucht eine Außenwirtschaftspolitik, die auf stabile Handelsbeziehungen mit möglichst vielen Partnern statt auf neue Blockbildung und ausufernde Sanktionen setzt und die unsere Versorgung mit Rohstoffen und preiswerter Energie sicherstellt.'),\n",
       "  Document(id='64fd1949-7212-4291-ad0e-4d16ea91ee30', metadata={'file_directory': 'data', 'source': 'data/BSW_Parteiprogramm.pdf', 'party': 'BSW', 'filename': 'BSW_Parteiprogramm.pdf', 'category': 'CompositeElement', 'last_modified': '2025-05-09T18:59:53', 'page_number': 1, 'orig_elements': 'eJzVVduO2zYQ/RXCz7bgm3zZtyySFOkmQdDNBcg2MChpJBGmKIMc2lkH+feeobyXtH0uUGC9Bsm5nnNmfPdjRJY6crwz1ehKjVb5apGv1ptJvV0sJstyW030el1OFpQXmpbrIp+vR2M16oh1pVnD58eo7HtfGaeZQjpbfd9H3rVkmpZxs1nOss0WXpeHk6m4xX2+zbP5eoWHQ28ci/Pd3WK+yvKxms+m2ebbWD2eF3k2k3O+WGSbfzkne1yMwn1g6qSZD+Y72duDLmn0Ew+1sbSrjKeSe38vBqmDy4vTHcnd9e2X3QftmczB943XXZcdqnqUqndN1E1q8m5UURx9S7eBd11fmdpQgnA+neeTKf62H2ebq3x7lS/E+wDPnYtdQR5WMymI6bvAM3ppSL0z3FhEIK/kM1SgomPygf+M02ld8pmcqnvbkKtI/eajq4K80BIvMK3UVwM2ryQb3x9SNx8N29T934leb/WyqKpispptppPlYrqZbIo8n9B2upxW0/l8M8//G6Lz+S9Er1bbbJqIRbDlP8+D/f+T6C/GcyhbXbM1ZUvqM3kXXc3qfV+2qtUMFgPYf6tBJhlHKvTWgOw3roqBvRlolhenyIsWPEkkN1bGuf6o2RzxBDEx2cAIk6kXhWgKrn/oFgIoCAw20UFFyFjgf0AEuEN3TlniM+P7d916fFWABTFRszpCiGVrqWwhSc7UJ6mUVJLmqq6hrKGnN672QMrHPUevTGAJLRV7VQ869nJ8OEiaisJTh1Z6LyzyFuBKIKp1CKg3Uzc6dsn3a2wGf1q2ntVhCOX2qYSx0jbANgRyBxSPytRJeGbVaWDTi36VjvUFx9cajPgzEPOdAZBfTcM6hjRkbwn1+bG6MawP9tdh+9K3boCxJuDiMvVO+x5Ot+y1mFYAJVle+6HAci9EvY5ubwfYgJdPFqK4AF0KDqjDEY8HZMtCaPZYCZzkctKWh6TiFp17XA3qcy8EeVMLf50WVaiGvEZFezu0Kj5d0kbj+8cSPw0pRRyq0gFNJ1WU7Yl8pl7iBiMgukVrZRvtMHcSSM1WlxVVthiKJACXQHsAy0nHR7CqzlE9T3pjE0GppPqCT3smwwY1q1ssqz2b3onsTiR3DBJAiXegLqgTuWRYUHNBQBASMjuDNerUtbEVgAqTlCG1JJPnyktOkbNuGGU1VkZIHfth876IdYOxGKeROfYuXT4NLkbCCP7QKA3gr1AyX3S090PbdVJYOMcCZYg0btGZqqJHojSKMQQRetAutflUVAemLpN0Y02nD1gAbPaIBlcna+IVRqlBDJlG3UDYplFMETpVpwiloHLft5dVAp7SMpEmIB+LGVMnRB9gfhy6IX0bBWB+UL9XTeSCzrq1LMD4Ak2EZ2OQqc/yg/OLgEDX8C4aTStM0mIl4ueqUUbGSX3AmMSBXuMCEE9YYFNJUjQGnmVpDMavvmOHkDsD79RX9vzn7b32Pu28j7Jhf377C7ft/iA=', 'languages': \"['deu']\", 'filetype': 'application/pdf', 'element_id': 'c40c51e41ac40b346a4d28471cfdf0db'}, page_content='enen Parteien mehr vertreten. Sie haben zu Recht den Eindruck, nicht mehr in dem Land zu leben, das die Bundesrepublik einmal war. Sie machen sich Sorgen um ihre und die Zukunft ihrer Kinder. Sie wünschen sich eine verantwortungsvolle Politik für den Erhalt unserer wirtschaftlichen Stärken, für sozialen Ausgleich und eine gerechte Verteilung des Wohlstands, für ein friedliches Zusammenleben der Völker und die Bewahrung unserer natürlichen Lebensgrundlagen.\\n\\n„Bündnis Sahra Wagenknecht – Vernunft und Gerechtigkeit“ wurde gegründet, um diesen Menschen wieder eine Stimme zu geben. Wir stehen für eine Rückkehr der Vernunft in die Politik. Deutschland braucht eine starke, innovative Wirtschaft und soziale Gerechtigkeit, Frieden und fairen Handel, Respekt vor der individuellen Freiheit seiner Bürger und eine offene Diskussionskultur. Es braucht\\n\\nBSW – Vernunft und Gerechtigkeit c/o Mindspace · Krausenstr. 9-10 · 10117 Berlin\\n\\nverlässliche Politiker, die sich diesen Zielen verpflichtet fühlen.\\n\\nDie Mitglieder der Partei unterstützen folgende Grundsätze und Ziele:\\n\\nWirtschaftliche Vernunft Noch hat unser Land eine solide Industrie und einen erfolgreichen, innovativen Mittelstand. Aber die Rahmenbedingungen haben sich in den letzten Jahren dramatisch verschlechtert. Unsere öffentliche Infrastruktur ist in einer für ein führendes Industrieland blamablen Verfassung. Kaum ein Zug fährt pünktlich, als Kassenpatient wartet man Monate auf einen Facharzttermin, Zigtausende Lehrer, Kitaplätze und Wohnungen fehlen. Marode Straßen und Brücken, Funklöcher und langsames Internet, überforderte Verwaltungen und unnütze Vorschriften machen gerade kleinen und mittelgroßen Unternehmen das Leben schwer. Das deutsche Schulsystem mit 16 unterschiedlichen Lehrplänen, viel zu großen Klassen und frühzeitiger Selektion verweigert Kindern aus weniger begüterten Familien Bildungs- und Lebenschancen und versagt zugleich vor der Aufgabe, die von der Wirtschaft dringend benötigten Fachkräfte auszubilden. Seit durch die Russlandsanktionen und vermeintliche Klimapolitik auch noch Energie schlagartig teurer wurde, droht unserem Land der Verlust wichtiger Industrien und hunderttausender gutbezahlter Arbeitsplätze. Viele Unternehmen erwägen eine Verlagerung ihrer Produktion ins Ausland. Andere sind in ihrer Existenz bedroht.'),\n",
       "  Document(id='55ae16ae-ca03-464d-b0e4-7a804691b63e', metadata={'element_id': 'a63e9d47e1631b20d402fecd5d7edc23', 'last_modified': '2025-05-09T18:59:53', 'category': 'CompositeElement', 'filetype': 'application/pdf', 'source': 'data/BSW_Parteiprogramm.pdf', 'file_directory': 'data', 'orig_elements': 'eJzVVtlu2zgU/RXCz5YgybJj9W2CprN0maLuNEDTIqCkK4kwRRkkFTcp5t/nXEpOk7YYYB6mQAEDFre7nnPIq88L0tST8deqXjwRi5pWZdZkVZSk1ER5UqRRmW3yaLXJy7P0LJFlli6WYtGTl7X0Emc+L6phsLUy0pMLYy1vh9Ffd6TazmNmm6fxtsCpeeGoat9hfl2s4+xsg4XDoIznw1dX2yLeLkWa5XH+cSlOw1UxDbP1Nk6/Mw7bMbFwt85Tz6m8Vp9I7w6yosXfWGiUputaWar8YG9Drhz/vGJkTzx3vru8fi2tJ3WwQ2tl38eHulmE2E07yjakeIU6jYuPYdb5636oVaMoFDBLsnWU4Fe8TbdP1sWT9YpPH3Dy2ox9SRa7Ug7I0ycuzuIv48iKx075iL89hJDeKq9DCl/3qkqrRm6bVdRUSRrlaSmj7SaT0Uqmq4ZKWWdU/b+9KtL4DMXfbOOCmzEN82QVpzxcJZt4/e142v4z9+qFNLVQzgtlxJ6UwVQ7ejLiHdlGOjeaNhY7Ul78ITuL+aOytZBG1Pi+/DAmSVMZV3XEM1a8pM52vPtmsCUpYalVZD1MeOm9eEFwBZPibhQl6aEzZJbiONqacGIy+kyTYrt1o1oMsZNnB2SAv/fUGS9HR4h67G+IK6bvzSMHTgGZDP2BkAUngiXpxYgDnJgIIW+aBotaIW7xVJFB79iRMjfkvGJPS9HJEqdfD1p5tUdqtaJHCbOrRo/OWWI7KOVQlrcOeWGnmTzWsh5t1YWzXzs24jnqi78WVHhQo2ewF0rIBl7CCerlbhTpRmrPUcqq8xxgzx/CwRaHIuQIgCnPbii3TMMpdCSkRQmjfhlaxNU8n/KwLVnDrUI+2FCG9mqNjiBep0JNNJXsDF8I6m7+hI09NnOEGLkD0M0JhZLF4h2CJXEI7kOlLkAy/KsaqUwQ4tMHQFsPbin2o73jNLxqg0nu6RFIQQxVx7Xizt63NBZ/AjZzo1/RKE0Digi0sAshAdUkfjf16LxFCmwwTIqXynvSzjPi5dggiV7sDog1fihRr6S10qsbess8+Y5UpTltk3WeRtDrbZTjlolknZbRdttsVpQ02yLNf4RU5VkSb79I1booTtKUx5tvx9P2n1OqJkC9pFloJmbW0rFIeStHjNQkHhPZoQt6sDNAmwnrHTKYyDJRMohdIATw3wETxHiaEsNHDyFjO94y6MBNQGnyC8C/IcYk+7tQprZjtV8KE3AajoVY+klavzCI42UdOEdQBNE4jKVWe8ZxL7U4Sjs5YVafIt0Nlvky9kKBn5OiYMv7cT+axodJK54jBJoPHx8J8kkaiBORxh8H64OYDBrlnOXhVJ9JGC5QCu1nFllmKjNXNifJ2p30Zc8p3R91w52SXOBfRtdq1sMQbPANjeFyUWgWmM3yjwKIy6GbyOgeGGIha0DbOvhzSNUBYGRCDUO33k06qlmSTwU5pyMuJzZ8ChxMm03Ogb9gA67FploDaOa/cb5s6qwAu6MsW+dRnq+TqKySKlqXZdEUm3xTFfJHcH6Tbh5y/mx1z/Hse+Np+8/J+Q9jhnf7fFGZ2igndmiyFJfcvr0JFAybVowsExjBgPh1wptqwXAfNlTzC6Ol1p7sEW5D8Aro4Sv4Xlpw8THIAnB3XgF6zOCWwr12qezpmnkIWBJvplG13zP9A0pPEbEWqHuyxeIpjcwozdpQQro4i2ADVACpljhghpsARvY3sy8kNpPscYJLvBc45lnrpGLZ+43lDNf4G3IH2ofHWIgKSqFucAuTZq7ePzTc9O578Cj4wt6BHyz8SHJ7PHXUYPCv/Qi9uXCnBP6FSh//AZSafZE=', 'filename': 'BSW_Parteiprogramm.pdf', 'page_number': 1, 'party': 'BSW', 'languages': \"['deu']\"}, page_content='Unser Parteiprogramm\\n\\nUnser Land ist in keiner guten Verfassung. Seit Jahren wird an den Wünschen der Mehrheit vorbei regiert. Statt Leistung zu belohnen, wurde von den Fleißigen zu den oberen Zehntausend umverteilt. Statt in einen kompetenten Staat und gute öffentliche Dienste zu investieren, haben Politiker die Wünsche einflussreicher Lobbys bedient und dadurch die öffentlichen Kassen geleert. Statt Freiheit und Meinungsvielfalt zu achten, macht sich ein autoritärer Politikstil breit, der den Bürgern vorschreiben will, wie sie zu leben, zu heizen, zu denken und zu sprechen haben. Viele politische Entscheidungen wirken planlos, kurzsichtig und teilweise schlicht inkompetent. Ohne einen Neuanfang stehen unsere Industrie und unser Mittelstand auf dem Spiel.\\n\\nViele Menschen haben das Vertrauen in den Staat verloren und fühlen sich durch keine der vorhandenen Parteien mehr vertreten. Sie haben zu Recht den Eindruck, nicht mehr in dem Land zu leben, das die Bundesrepublik einmal war. Sie machen sich Sorgen um ihre und die Zukunft ihrer Kinder. Sie wünschen sich eine verantwortungsvolle Politik für den Erhalt unserer wirtschaftlichen Stärken, für sozialen Ausgleich und eine gerechte Verteilung des Wohlstands, für ein friedliches Zusammenleben der Völker und die Bewahrung unserer natürlichen Lebensgrundlagen.\\n\\n„Bündnis Sahra Wagenknecht – Vernunft und Gerechtigkeit“ wurde gegründet, um diesen Menschen wieder eine Stimme zu geben. Wir stehen für eine Rückkehr der Vernunft in die Politik. Deutschland braucht eine starke, innovative Wirtschaft und soziale Gerechtigkeit, Frieden und fairen Handel, Respekt vor der individuellen Freiheit seiner Bürger und eine offene Diskussionskultur. Es braucht'),\n",
       "  Document(id='241cd25c-d943-41b1-9b79-ba7a0f0afe2e', metadata={'filename': 'Grüne_BTW2025.pdf', 'party': 'Grüne', 'element_id': 'b0c0e3aec3ecfafc28dbaaa5377982d0', 'category': 'CompositeElement', 'languages': \"['deu']\", 'orig_elements': 'eJzVVE1v40YM/SuEzpYgK5Is+7ZBtkHRDyyatD2kgTHSUBLr0ciY4cQbL/a/lyMnm+2i6K2HAjIkckjOe+SjHz4laHBCy3vSyQ6SXK01NusuXbe1Ssu2aNOmyLu06Jqq7ps231Q6WUEyISutWEnOp6SbZ6fJKka/2EY9z4H3I9Iwsniacp01W8l6OTiR5lH81bbKik0tB8eZLMfkh4eyyKoVbKo8u3pcwau5qS9m0ZT/aC/h4kj8s2ecIpUP9BHN3VF1mHyWg54M7jU57Hh2zzFgwf9yYtWE0Xfr/gh53ncW99f3vxd5UWVH3ScLdjsENSwUHxKNIXlcvJ7306ypJ1waGFPSXJ7t/brZVdtddRWzj5K5t2Fq0UnUehsRMX6M3Ulu0MH39gk9E9NsvWcVgCzcYGDfjXKxBkM4MNAE2iGlIByNoQEt/ETyoZxGK6WRujGDG0K468ZgotPh5FGqRRD8fFxI/qycU0xPeB8RCJRvVVDXuq7qzTrVzbpJy74uUtVgLqQq3ZZbXDe6+G9VcJVvs3wF5asMXuxaapTRrqqrOPdv7fL/rIOvNCCDFQH8YGhSKQSZ/6/TCU1UQ+Az+PlEcabwG7oDjs6nK3hv0Q2E8nVNRgc7+Evid7OLWWKT7Z2K0nHhwMG9VdHykrHJtcqIckRD6GRqDKNqBUh/6YSTch60uAg+OJodcTzAkjMBqhyQZ1ChG3dwLSF+FnUqa1kqHETUYYqCs/Au+GEp2xqklgE9xIoiVfm5c7xWENIh5v2CAxorglYxSFrNyHAOU7zAHwnNbtE6RurIJDwFvrKETvhKOX9ZgwHbC9IQXQcBBQeHmrgXtdqzhDOcMK7QSvh5uMVRGV7yf5TuHtFJ12JzPEzBeyEpfcAJHA7BXCo7QfueFQvVSfYog7sZRhEzOhGGl8MTucgP/hRkYt5GzEvL4YBkUXqbgl0aXfOy168LvAzxCd2EFK1zGEzc8ugSgXeHFPht26VVKOziFCTvy+0If5eWSEHDcu31y2w1vo05ymGB+RXK7F/+Ph7/AoBOCmk=', 'source': 'data/Grüne_BTW2025.pdf', 'filetype': 'application/pdf', 'file_directory': 'data', 'last_modified': '2025-05-09T18:59:53', 'page_number': 19}, page_content='eration ein modernes, funktionierendes und klimaneutrales Land sowie eine wettbewerbsfähige Volkswirtschaft garantieren, statt ihnen aufgescho- bene Lasten und marode Infrastrukturen zu hinter- lassen. Bürger*innen wollen wir ermöglichen, sich an diesen Investitionen zu beteiligen.\\n\\nFür einen Deutschlandfonds und eine Reform der Schuldenbremse\\n\\nWir werden in der Regierung entschlossen die In- vestitionen in tragfähige Infrastrukturen nachholen, die unser Land so dringend braucht. Die schwarze Null im Haushalt wurde mit einem Kredit bei der Zukunftsfähigkeit unseres Landes erkauft. Wir wer- den deshalb einen Deutschlandfonds für Bund, Län- der und Kommunen errichten. Daraus werden wir die Schienen bauen, auf denen Züge die Menschen pünktlich an ihr Ziel bringen, die Kitas und Schulen sanieren, in denen Chancen für alle entstehen, die Forschung finanzieren, die die Technologien und den Wohlstand von morgen begründet, und Unternehmen den Raum für Investitionen in ihre Zukunft ermöglichen.\\n\\nDer Investitionsstau in Deutschland liegt im drei- stelligen Milliardenbereich. Die Schuldenbremse in\\n\\nInvestitionen in Klima- und Umweltschutz sowie in Verkehrs-, Energie-, Bildungs- und Forschungsinfra- struktur sowie in die nationale Sicherheit haben für uns dabei Priorität. Klar ist auch: Bei sogenannten konsumtiven Ausgaben bleibt es bei den derzeit strikten Regeln. Das bedeutet zum Beispiel: Die energetische Sanierung des Schulgebäudes kann kreditfinanziert werden, das Gehalt des Lehrper- sonals muss aus dem regulären Etat kommen. So hinterlassen wir der jungen Generation keine un- nötigen Schulden und vermeiden zugleich versteck- te Schulden. Denn auch unterlassene Investitionen sind eine Bürde für die junge Generation.'),\n",
       "  Document(id='2f8d17f3-a84a-433a-acc0-98281b32978a', metadata={'element_id': '9853fbd7b6f7d558d3d561185a0ce14d', 'category': 'CompositeElement', 'source': 'data/Grüne_BTW2025.pdf', 'file_directory': 'data', 'filename': 'Grüne_BTW2025.pdf', 'page_number': 19, 'last_modified': '2025-05-09T18:59:53', 'languages': \"['deu']\", 'orig_elements': 'eJzVVE1v3DgM/SuEj4ux4e+xc0uQbve0WCDZFmgaDGSLsomx5YEszTQp+t+XklM0aIu99VBggAEpUnzP1HsPnyOccEZtDySjK4jqIi+7RtVxqso6Lgul4kambVwXqssz7CuFWbSDaEYrpLCCez5H/bIYSVpYXEM8iafF2cOINIyWM02ZJU3LXS8HF5J25HzVVkm+r/ngtJC2vvnhoUjbJN1BXadJ+biDr/F+X29xVVVJ9mO81XMiWp9Wi7Mn8w99wunuJHqMvvCBogkPkgz2djFPviAweDnRYkafe2s+ujRVvcbDzf37PM2r5CRVFNDrwYkhkHyIJLroMWRXe5gXSYowfELfEqf8a++z5qpqr6rCd5+486Dd3KHhqqz1iCx+8t8nukUDt+js2o88RKpFyxVGmpTdgSSEuxPhFHBh6WYEtUE0IA3pGAbUEvRiL/xPA8IHd3Ra2ZX0GVdLlhaNGp4doBlDZz2iTuCNAVotCEYERyTNiVXY51e38+hrpwau2AHN8JdwawyjmCysdkNjjtzMN58MLYZWQsOTHMNBpeiZ+GHx+UwWJOfPixmZHno0b0hrMc6+en52AwZEt6i5irkiXKgfrSdzrSdCZsgZhA7XlUfADU3S6QEWyde/whIDH95xKzNFnopG8dNEo0G4foTjolc3Wzp7XqvnxUPfk4HLMvELCCA9yUCRsfvdombuDHpmAEwFR+O3aZ9O4bX8LYwR/sJ7v0re6feCylqV5nWaxjJHFlSriljISsZtlpdps8/2WZn+WkFVZekF1ORpUgTBfI2bl7jKk+Znsa//TQWVta+X9Oey8DP82XYqkUrMqzLuaixjdr4qbqtGxUVb9i3muM/kL95OmSfVDko+8d9+i7Ks3sK82SfFj3Go/m02k6evN/MW1bRNZX2jxWAWXlVw82I7A/Jvkh2yfbCO/2CjYFmyPV2bzmu6Y88bvHA/uKDKTbpenN6v3qG5sHq9OUhnWPM+eeE+bxu3NJAVU/ApX3FGs1nu0d/3LyO5fDMD0ivbDVux7zxONIs4gHXzBSdv1ZvryBgmbzhw57ozv6zNbEXXCceX/o9XPP4H69tb2A==', 'party': 'Grüne', 'filetype': 'application/pdf'}, page_content='en pünktlich an ihr Ziel bringen, die Kitas und Schulen sanieren, in denen Chancen für alle entstehen, die Forschung finanzieren, die die Technologien und den Wohlstand von morgen begründet, und Unternehmen den Raum für Investitionen in ihre Zukunft ermöglichen.\\n\\nDer Investitionsstau in Deutschland liegt im drei- stelligen Milliardenbereich. Die Schuldenbremse in\\n\\nInvestitionen in Klima- und Umweltschutz sowie in Verkehrs-, Energie-, Bildungs- und Forschungsinfra- struktur sowie in die nationale Sicherheit haben für uns dabei Priorität. Klar ist auch: Bei sogenannten konsumtiven Ausgaben bleibt es bei den derzeit strikten Regeln. Das bedeutet zum Beispiel: Die energetische Sanierung des Schulgebäudes kann kreditfinanziert werden, das Gehalt des Lehrper- sonals muss aus dem regulären Etat kommen. So hinterlassen wir der jungen Generation keine un- nötigen Schulden und vermeiden zugleich versteck- te Schulden. Denn auch unterlassene Investitionen sind eine Bürde für die junge Generation.\\n\\nDer Deutschlandfonds hilft, die Spielräume für drin- gend notwendige Zukunftsinvestitionen zu erhöhen. Er ist aber kein Ersatz für die Aufgabe, im Haus- halt stärker zu priorisieren und effizienter mit den vorhandenen Einnahmen umzugehen. Denn viele wichtige Anliegen wie bessere Bildung oder stärke- re Sicherheit erfordern auch konsumtive Ausgaben. Wir wollen den Haushalt entlasten, indem wir mehr\\n\\n19\\n\\nGeflüchtete und mehr Bürgergeldbezieher*innen in Arbeit bringen. Zudem wollen wir die Verwaltung durch die weitere Digitalisierung verschlanken. Und wir wollen insbesondere klima- und umweltschäd- liche Subventionen abbauen.'),\n",
       "  Document(id='6ae31599-40ee-41bd-afbb-c709f8140c84', metadata={'source': 'data/Grüne_BTW2025.pdf', 'party': 'Grüne', 'orig_elements': 'eJxlU21r20AM/ivCnzaIjfPiJe7HUloK3RikW2BZCWefzj5in8O9NE1K//uki7sXBjG5k/RIjx7ptq8Jdtij8TstkytIFqVYzXEpU1XnIl3UtUxXZTFLcVYvlzKfL0W1TCaQ9OiFFF4Q5jWph8FKbYRHF++dOA3B71rUTevJslpMs1VJqNFx1NK3ZC/KIpstP5HjMGjjGbzdzvMyyyewKLL50wTer7NierkXBTn+v8dwuifu5Dz23MpX/YLd+iBqTN7IoXSHO6kt1n6wJw6I/EePET2y7c7+DHmuaoO768fNLJ8V2UGqJHI3TRBNbHGbSAzJU7Q6v+sHqZXGKCBD0px+5eN0dVWUV8Wc0QdC7kzoK7QUNS2ZkccXVifRrUULYu8DdsQEbgfbwzPaVhuJ1sO9eUbntdeDIW8wEgQ7ED4LJiuVES2NcAJSI7kdu5wXjdF0okj4PnR7l8JRW+/qVihPR5Rc0+yDrbAzGXzrI9wM/kgY3VClf+tqNihL/dpAVO2ELQy5wb2w1WC005iCDaYZSTh4YKIuUqZg1CYSs3ucwDnsg1HeKW4BFym0VBM2fyieAyjaKXOOXUzgOERxqIlYdV23oUtBoqks9g7BoiLdYnDGeSDmUQSRotceDAb8nZFSwfpA//ZSPvR4kY/T06DpSThH0PNRp5yIjtfcBX8PFwiPwPCYPOpIDK3k0j9C06Gu29EQMzq6o6XF5BaokHAuVrtDJ3pPOdzYDYsnRaDZswTeimbUh9SBivJWPoMb4cDSYzMgAtXhROqytW2ct/lLRqcNjzB4bg2Bh35vPDEXNNYUjCAhNmMJHp1Tg5EOPtxvbj9eFOG+0VW0KjAwnL+1qFtm7d+l4H0hStF5AVhsaBaUMeP196dDfF5fhKUw/YyPvPtvT78A41mGeg==', 'filename': 'Grüne_BTW2025.pdf', 'page_number': 19, 'element_id': '3af8220402cabed071a6ddb48a26cccc', 'category': 'CompositeElement', 'file_directory': 'data', 'languages': \"['deu']\", 'last_modified': '2025-05-09T18:59:53', 'filetype': 'application/pdf'}, page_content='he abge- wickelt werden. Diese Art der Vernetzung ist zu sehr vernachlässigt worden. Wir werden offene Standards fördern und dabei Entwickler*innen, Zivilgesellschaft und KMU stets miteinbeziehen. Diese Standards sollen ohne Lizenzgebühren frei nutzbar sein. Wir denken Interoperabilität und digitale Kooperation weiter, nämlich als eine notwendige Grundlage, um\\n\\n18\\n\\ndie Wettbewerbsfähigkeit, Resilienz und Nachhaltig- keit unserer Wirtschaft zu stärken.\\n\\nUm das große Potenzial von Datenkollaboration für Innovation und Produktivität zu heben, muss die Umsetzung des Datenschutzes einfacher und weni- ger bürokratisch werden. Die Datenschutzgrundver- ordnung muss effizienter und einheitlicher um- gesetzt werden – auch um Doppelregulierung und unklare Zuständigkeiten zu vermeiden. Eine Reform beim Datenschutz hin zu Einheitlichkeit, Verlässlich- keit und Einfachheit ist nötig, etwa durch die Bün- delung von Zuständigkeiten für bestimmte Sektoren oder Forschung bei einzelnen Aufsichtsbehörden.\\n\\nihrer aktuellen Form verhindert Investitionen und andere Maßnahmen, die unsere stagnierende Volks- wirtschaft wieder ankurbeln. Um die notwendigen Investitionen in Infrastruktur, in die Dekarbonisie- rung unseres Landes und in eine starke, zukunftsfä- hige Wirtschaft zu finanzieren, wollen wir die Schul- denbremse reformieren. Wir schaffen damit neue finanzielle Spielräume, die wir angemessen zwi- schen Bund und Ländern verteilen werden. Zugleich werden wir sicherstellen, dass die Gesamtverschul- dung dauerhaft tragfähig bleibt. Das raten auch die führenden Wirtschaftsinstitute wie der Internatio- nale Währungsfonds (IWF), die Bundesbank oder der Sachverständigenrat der Bundesregierung.'),\n",
       "  Document(id='bbb8f9b1-d8bf-4c01-bfc3-0b6cf3ba328f', metadata={'filetype': 'application/pdf', 'filename': 'CDU_BTW2025.pdf', 'last_modified': '2025-05-09T18:59:53', 'source': 'data/CDU_BTW2025.pdf', 'file_directory': 'data', 'element_id': 'ee6b1b33785cbcbd53bfeac23178e703', 'page_number': 78, 'category': 'CompositeElement', 'languages': \"['deu']\", 'party': 'CDU', 'orig_elements': 'eJzVVdtu3DYQ/RVCz0thdZf8ZtcJUrQpAtipH1xjQYrDFWuJUnmx4w367x1yta3jpEBfUsDAYoUZzgwPec4Mbz8nMMIE2u2USM5IUmayqSpW0qotclpKXtIWIKd9mfVcspLJsk42JJnAMcEcw5zPST/PRijNHNhoj+xp9m43gNoPDj1tmaVdjlnrwqMSbkB/1VVpEfzLrLQLube3zTbtNiTLyjS725CTmVdpG8wKK22/YcdwdCT2yTqYwkk+qE8wXi2sh+RPXJBqhJ1QBno3m6cQEOGvK5pNEHw/XH7cXVzf5FvcYBEyiZj13rN9PNptIsAnd9Fr3W6ahZIK4sWFFLrFX3edtWdVd1YVIXvBzJ32EweDUU0boDj4FG4lefub325lbwgoDQT6wQG5coyrUbmwBKWzXqtZp+R8RIzk7WyQqhhuyDsmndd7cgne2X5AmMISeSp51Q9+FKADBve0xMP9rKz7MdwOgnjJe9NwDhXLaSdKQUvOM9pymVEOWd7UORRNm31X3ts8LZDIYpvWgdjVxAJNMIu8iTy/tGP4a+MdmQKDDCLXeHXIp3EQsJBHtWrhfmQGyDm3WCV9TuEvzBjm1ANch1rf4BGyflu2JaNQiJ6WXVnQtsImrgSHLs9FW2TV/9G/VXbk8WjmGX5O/Zp/bR/DXxuPN0gXoh2QuYOfvmpdSrwW5Ib1g3V+sgu7dym5ZBwUmY5tai2mCgXkPUM4RuEEoD8Z5cAo0BuitOVg56iWGHZqautCs//hZxwYD7Mm9ZZ8MPMBVRC3FMyS348oBjNiVcAhIdVBrdUpMQrxhkxhEM0pV4AlF8Y7h2zGcbKYWfh7VMWGPEKANShNHsBwpUWoS/gIigPOp1/BULyLeKw6/AsJX5xyUi5KeyLMu3lCDVsVdK9P0LCsZINBh2X63uHUC+u4r8EDp/91jLEax1UPKP+2wjFWlxllTcdoLZFeKSqo6+87xla956u+V7Mu0/y5/F/aMfy1yf/Kc6uEYuYfyS9G6YNaCAcWXjMUxjvm7cBGZ1EADkbUmCFvPn4hjb/frHMv99ge8YFDwOAOJ/43Uf5BP7jozbwcN1T47qHnPQzmMYgFTSYlemIX4PdiLb3HjtJ6XXjm1ORNqIb9or07/KvO7v4CQ3rZvA=='}, page_content='en Kindern und Enkeln aufgebürdet werden. Sie verpflichtet die Politik, mit den Einnahmen auszukommen, die für die Erfüllung der staatlichen Aufgaben zur Verfügung stehen, und sichert so die dauerhafte Tragfähigkeit des Bundeshaushalts. Auch in Kri- senzeiten hat sie ihre Funktionsfähigkeit und Flexibilität bewiesen.\\n\\nVolle Konzentration auf die Kernaufgaben. Das Geld ist knapp, umso mehr gilt: Jeder Euro muss effizient eingesetzt werden. Wir stehen für eine solide Haushaltspolitik. Un- mittelbar zu Beginn der neuen Wahlperiode machen wir einen ehrlichen Kassensturz und hinterfragen alle Ausgaben, insbesondere die Subventionen. So stellen wir zugleich sicher, dass bei Umsetzung unserer Projekte eine solide Haushaltsführung gewährleistet\\n\\n- 75 -\\n\\nist. Ausgaben, die ihr Ziel verfehlen, müssen entfallen. Das schafft Spielräume für unse- ren Politikwechsel. Im Rahmen einer Modernisierung des Bundeshaushalts wollen wir zu einer stärker ziel- und wirkungsorientierten Haushaltsführung kommen.\\n\\nFür eine echte Stabilitätsunion. Allen Formen einer Haftung Deutschlands für Schulden\\n\\nanderer Staaten erteilen wir eine klare Absage.\\n\\nWir stehen zum Stabilitäts- und Wachstumspakt. Dabei müssen die Maastricht-Kriterien, insbesondere die Schuldenstandsquote von 60 Prozent und das jährliche Defizit-Krite- rium von drei Prozent des Bruttoinlandsproduktes, weiterhin verbindlich bleiben. Ver- stöße müssen mit einem automatisierten Defizitverfahren sanktioniert werden.\\n\\nSubsidiaritätsprinzip beachten. Haushaltsmittel der EU müssen für Aufgaben eingesetzt werden, die einen europäischen Mehrwert schaffen und den Bürgerinnen und Bürgern Europas nutzen.'),\n",
       "  Document(id='4a9bf352-60f8-4b3d-a3c6-8246003afebb', metadata={'page_number': 78, 'filename': 'CDU_BTW2025.pdf', 'party': 'CDU', 'filetype': 'application/pdf', 'element_id': 'adefc3651288ab1d8348445616ebe496', 'category': 'CompositeElement', 'file_directory': 'data', 'last_modified': '2025-05-09T18:59:53', 'orig_elements': 'eJzVVNtq3DAQ/ZXBz7GxvfItj2nSQgOlNGkXug2LbI3XYm15keRsktJ/70g25PraQmAxO5czt6OZze8AexxQ2a0UwSkErC5ZU+Q8ZKJtQpbWVchFm4V5nQjGq3q1KvPgBIIBLRfccsL8Dppx1EIqbtF4uef342S3HcpdZ0lTsiSqUkIthqMUtiN9VmXRyukPo1TWYTebMo1WJ5BWcVTenMAirmIK4MRVFkfxa3l2J0Vg7o3FwXXyVd5hf3XgDQZ/yNDKHrdCamzsqO+dgy9/sSg+oNN9OP++Pbtep3GaRQfRBr5mtZv4zre2CQROwY3XGrsdRiFbiX5wDhLG9Kuuk/I0q06zlUMfCLlV01CjJq+idKVYvHNTCVCqE5gGqNEY1ND+muK4bTQIVHChlbEt73u4HTWBUVq08DCBIVTkItv7gy/5Wtret/iSyipJm1ykZZhhlRKVBQt5k7GQlTnjGatFW1X/lMoijiriKilnrhZxFS/UsTwq3pC9+3uj8srymnIb+IS9gEkJMLMGPtIw1cPguEWm9xYBdcd7i+opiV+41tzKW7x2Ad8gsxB52bRJHuZlRctZ1yys87gIiyRpeJlXBebJ/yCTFfNeziJL0yh2YkaR0tfy7P7eyDyXCEfs7dEt3ULgXkuDtJkaPvNOI6RxXHqe6U8FHbck0BIjnHG1p/11pkt+kJb3T7m/RT1LikLZCK4ohcABdrK2QM9HKjjHyZqmo/bmh3Qx6fHAQeGE8A132KvHSzFgp2EtKRY9NyVMOJuQdXK3p9A+wPw2pZ0tlHQtNZ0R+0Bl0oGhrIJrTqfIp7h0jSp3aajWASm2O1K+N7XMIgSfbdQWepTGTmpnHvPSiAg88KZbxiC48U2E68VHO8D8IJY1cYh5KaJn/Q+TMVSjgZ0fW5u7r2hpkD/Gfm+OUjtX3lrPjE/yc1SeJ0r+onHjmNFQU801Pr+hL9bv5i8OKTRA', 'languages': \"['deu']\", 'source': 'data/CDU_BTW2025.pdf'}, page_content='tet\\n\\n- 75 -\\n\\nist. Ausgaben, die ihr Ziel verfehlen, müssen entfallen. Das schafft Spielräume für unse- ren Politikwechsel. Im Rahmen einer Modernisierung des Bundeshaushalts wollen wir zu einer stärker ziel- und wirkungsorientierten Haushaltsführung kommen.\\n\\nFür eine echte Stabilitätsunion. Allen Formen einer Haftung Deutschlands für Schulden\\n\\nanderer Staaten erteilen wir eine klare Absage.\\n\\nWir stehen zum Stabilitäts- und Wachstumspakt. Dabei müssen die Maastricht-Kriterien, insbesondere die Schuldenstandsquote von 60 Prozent und das jährliche Defizit-Krite- rium von drei Prozent des Bruttoinlandsproduktes, weiterhin verbindlich bleiben. Ver- stöße müssen mit einem automatisierten Defizitverfahren sanktioniert werden.\\n\\nSubsidiaritätsprinzip beachten. Haushaltsmittel der EU müssen für Aufgaben eingesetzt werden, die einen europäischen Mehrwert schaffen und den Bürgerinnen und Bürgern Europas nutzen.\\n\\nEuropa krisenfest machen. Wir setzen uns für eine Insolvenzordnung für Mitgliedstaaten\\n\\nein, um besser für den Ernstfall vorbereitet zu sein.\\n\\nStabiles Geld und stabile Finanzmärkte erhalten\\n\\nDie weltweite Finanzkrise der Jahre 2008 und 2009 hat unsere Banken und Kapitalmärkte verändert. Seitdem gibt es in Deutschland und Europa neue Regeln für mehr Widerstands- fähigkeit und Stabilität. Wir setzen alles daran, neue Krisen zu vermeiden, unseren Finanz- standort leistungsfähiger zu machen und das Euro-Währungssystem stabil zu halten. Deutschland muss als größte Volkswirtschaft der Euro-Zone deren Stabilitätsanker bleiben.'),\n",
       "  Document(id='18438da6-59b7-4991-baa7-d2d5d7c8b9b7', metadata={'source': 'data/CDU_BTW2025.pdf', 'last_modified': '2025-05-09T18:59:53', 'file_directory': 'data', 'languages': \"['deu']\", 'element_id': '7faf1e8466b846fd0b2b10a31c19a8da', 'orig_elements': 'eJzVVMlu3EYQ/ZUCz0OC+6JbFGdxnARCJEWAFWHQZBfJzpDdRC8aawz/e6rJMTxwdPXBwBymquvVyvcePwY44YzS7gUPriDAmGEbl1nYp1iGedmmYZMWPCzrLO5K3jLeYbCDYEbLOLOMMB+DTinNhWQWzWpP7EU5ux9RDKMlT50nUZMS6vxwFNyO5C+aIsq8f1FCWo99fKziqNlBWdLL0w7OZpXHUerNgjKl/7e3cHIE5sVYnP0kN+IDTrcLo34/0UMvJtxzobGzSr/4gLX984tkM3rfj2/u99d3D2mcFtHC+2DtWQ6ODetojwFHFzytXmP3s+KiF7guzkPCmH7NXVJfFc1VkXn0Qsi9dHOLmqKqyrdi8YPfSvC3miaEd0qeaP+aWaEkMNcDF+RFLen/wFqUEbxhBn7BiYMwFg6SLcsO3GwUzDhqGMRkr+A35KjhJ6fJ64wB7HtxEpQZUEhqH+3JwhE19wkfhAZa1IgS+n9cHPed9mEIRk2CI/zKnBnZZM1CthWHCO5lCLOwFqeWaTg5uMZBSAm+qERHiR7YOC2ohSL8zDqf+yi2tBKoz0msvnfMGJTGOn0CJzmMdHrUvaZF0fh+Iz84s869AyFNi0ZJKoLrWm5d+0wj0ab8FLfKD0GQrdLJDRNSETC+kt4Bp1LQooD72Y/v5EAVDeXScKPVv3iw+PrU552M2kMGPHoTcxoB6QBo/WHty7J+Mb+T563/5OiyX5OJJ1VdJzWGXcbTMG+rKqxZ04cYl0md9knF8duSKW3iKNlBHedR4uny2U7Kzc7SNMpesdf4741OIVQFhJe3+Vkp+rReuwwWWVz2fRsmSZaHOW+LsM6yLuzyjsdVk/ZV/G0vU6+LLpMo93vfrOTzmc6q9rW9Rn8HV6kvr0L0iC4Y7UksSLPeC5zgmXiP4+T988Y4Lw1AZ+q9EJyFz3Qj63sLtwth9EZFN+MX4fKcDkET8mZTqyN2o8Epgrcz/MXG2eckmmv4g7RJS2EErszmaOCaNAiJ9Wfmw1Fd6MkZZuxWVR/IIE2dwlW5KOZAaYzSXmYppyXg6xpyUDN1EV1+nH8y7TX/Ge/8pj49/Qfy/WM9', 'filetype': 'application/pdf', 'party': 'CDU', 'filename': 'CDU_BTW2025.pdf', 'page_number': 77, 'category': 'CompositeElement'}, page_content='ur. Für die ländlichen Räume ist er beson- ders wichtig. Solides Haushalten, verantwortungsvoller Umgang mit Steuergeld\\n\\nDie Haushaltslage in Deutschland ist angespannt. Die Staatsverschuldung steigt und steigt, sowohl im Bund als auch in den Ländern und Kommunen. Was Deutschland jetzt braucht, ist eine solide Haushaltspolitik. Die Bürgerinnen und Bürger dürfen vom Staat zu Recht ver- langen, dass dieser verantwortungsvoll mit ihrem Steuergeld umgeht. Eine solide Haus- haltspolitik ist auch ein Gebot der Generationengerechtigkeit, denn Schulden belasten un- sere Kinder und Enkel.\\n\\nAn der grundgesetzlichen Schuldenbremse festhalten. Sie stellt sicher, dass Lasten nicht unseren Kindern und Enkeln aufgebürdet werden. Sie verpflichtet die Politik, mit den Einnahmen auszukommen, die für die Erfüllung der staatlichen Aufgaben zur Verfügung stehen, und sichert so die dauerhafte Tragfähigkeit des Bundeshaushalts. Auch in Kri- senzeiten hat sie ihre Funktionsfähigkeit und Flexibilität bewiesen.\\n\\nVolle Konzentration auf die Kernaufgaben. Das Geld ist knapp, umso mehr gilt: Jeder Euro muss effizient eingesetzt werden. Wir stehen für eine solide Haushaltspolitik. Un- mittelbar zu Beginn der neuen Wahlperiode machen wir einen ehrlichen Kassensturz und hinterfragen alle Ausgaben, insbesondere die Subventionen. So stellen wir zugleich sicher, dass bei Umsetzung unserer Projekte eine solide Haushaltsführung gewährleistet\\n\\n- 75 -\\n\\nist. Ausgaben, die ihr Ziel verfehlen, müssen entfallen. Das schafft Spielräume für unse- ren Politikwechsel. Im Rahmen einer Modernisierung des Bundeshaushalts wollen wir zu einer stärker ziel- und wirkungsorientierten Haushaltsführung kommen.'),\n",
       "  Document(id='f101ef34-1fad-4fec-80e0-20a25382c300', metadata={'file_directory': 'data', 'party': 'AfD', 'last_modified': '2025-05-09T18:59:53', 'orig_elements': 'eJzVVE1v2zAM/SuCz7Hh79i9dSi6nbphCXZYVxiyRdlCbDmQ5KbpsP8+SvKAbC1224ACQRJSpMjH96j77wGMMIE0jWDBFQm2GRRFyfOwTXkV5jEUYcUYRTOp2oLnNWVlsCHBBIYyaijmfA+6eVZMSGpAO3uk53kxzQCiHwx6irqI0gqz1oOTYGZAf5UnUVWj/zgLaWzu/X2SxFG5IXmdROnDhvyyi3i1s7iKkpe2j0dHoM/awGSxfBJPMO6OtIPgBx5wMULDhILOzOpsAxyA9UTSCVySmntFp6m55jfNRzkKCU10ZDxw7ct+ob1DeR8wWIIH59WmmWYmuAA3wzROizDGT71Pqquivioym33EzEYuUwsKo7al7cnAkx1QkCRRTXaGUqN1NywjA0mOWG76tsQx5PabcdETI8YepL3NnI+u370wo8P3J5NdnndlWcShaydPcxpWPK3DqqyyuE07iFnxP5gs8Ce/ZDLLvZ1tk2j7iu3i3yyTNwIIFiTaKGgNYWh+tvTxrjscYFDkeSF00T30o+gGkEi0531Ab0gGOhp0URmRHaa2wH2yOs3KgL8PFaKEMScQ+uLyNXBQi+wvBXJHlaJGPMLedviKUIqqrssijUPaZjTMGW3DerulIY0TWlcxT1gJ/1QoWZ1HxYZs6yhxOvBmihvu7LIso/Sl7cLfrEwYKC+DhYOyjDv2Ss6RFy8M8gWUfwuQ0Ijc0W7gs91+BuQ96saSOlv56HlENERiltfHrQsjtkQr9ABKWPOwqOeQaBvl7N36zhznURhxwG6wkxF6Q06g0B+RDwIUqnXywtIak05CeQlaybo+f2vz1TfrEZQSsgclN2SZiJC6BT0jDAVYtBvI4LEP1vEVj7GTE8LE+7CimMgtRYAEkBhN8G+P4hUI24Bw05AuSaLCcaC4MSdff/QwEcDB3y+lBXVDtZ3MMwiDIwNmh3NxAen9xkE+4BD8PK9xJZW2kwO7XDgfgQ6yB1SRm/I7ePQlxoOPWCQjByotB7jXY7uSg8Cw/uKo5yjLAa9ZF36d+V8W9+Enk1VyzQ==', 'filename': 'Programm_AfD_Online_.pdf', 'element_id': '9621e885a7e896aa671d7293d8cd749d', 'page_number': 76, 'category': 'CompositeElement', 'source': 'data/Programm_AfD_Online_.pdf', 'languages': \"['deu']\", 'filetype': 'application/pdf'}, page_content='amit regio- nale Eigen- und Besonderheiten gepflegt werden können. Deutschland ist stets, anders als Frankreich, ein föderaler Staat gewesen. Wir wollen dem Föderalismus wieder mehr Gewicht verleihen.\\n\\nDer Länderfinanzausgleich muss so überarbeitet werden, dass die Nehmerländer nach Gewährung von Ausgleichs- leistungen nicht besser gestellt sind als die Geberländer. Die AfD setzt sich dafür ein, die Bund-Länder-Finanzen neu zu ordnen, um Kompetenzgerangel zu unterbinden und klare Verantwortlichkeiten zu schaffen. Bund, Länder und Kom- munen brauchen eigene Finanzierungsquellen, aus denen sie ihre Tätigkeiten selbst finanzieren.\\n\\nEine klare Aufgabenzuteilung soll Wettbewerb zwischen den Bundesländern ermöglichen. Wir fordern eigenverantwort- liche Länder und Kommunen, die auch für sich genommen insolvenzfähig sein müssen. Wie auf europäischer Ebene befürworten wir hier die Nichtbeistandsklausel, so dass Ret- tungsprogramme des Bundes für überschuldete Kommunen oder Länder verboten sind.\\n\\n11.9 Staatsschulden planmäßig tilgen\\n\\nDie AfD strebt die Rückkehr zu ausgeglichenen Staatshaus- halten an. Sie befürwortet die schrittweise Rückführung\\n\\nder ausgeuferten öffentlichen Verschuldung. Nachfolgende Generationen sollen nicht die Folgen der bisherigen kurz- sichtigen Schuldenpolitik auferlegt werden. Hierzu müssen wir die staatliche Verschuldung planmäßig verringern, um insbesondere auch höhere Zinsaufwendungen im Falle eines allgemein steigenden Zinsniveaus bewältigen zu können. Das derzeit niedrige Zinsniveau gefährdet die Alterssicherung weiter Teile der Bevölkerung und kann deshalb nicht auf Dauer aufrechterhalten werden.'),\n",
       "  Document(id='b921e007-2712-4abb-9844-7d33bd89ee2a', metadata={'party': 'AfD', 'last_modified': '2025-05-09T18:59:53', 'file_directory': 'data', 'source': 'data/Programm_AfD_Online_.pdf', 'filename': 'Programm_AfD_Online_.pdf', 'element_id': '38458163cf7deec2cc1de7edde44f8d2', 'filetype': 'application/pdf', 'orig_elements': 'eJxtU11P4zAQ/CurPJOoTelHeAMh7gHxoYN7OYoqp94kFokT2RsKRfz3G7tF3EknVVU83tmdnV0/fSTccsdWNkYnZ5SsptOclwud8uy0TE+Xi0lazJaztMgXmifFbJEXeXJCSceitBIFzkey7XunjVXCPp5b9d6PsmnY1I0AmRfzLF+BdbzYGS0N8NXpNFsVwIfeWAncp6fpdJItTiifzLPp8wl9nWfF8nCeLRf/Ox/iAST+3Qt3oZd788btw6C2nHziojItb7RxvJXevYeA2MDxxqqOI8n1tVNdtzmvLjd3tjWWN9mgqyTKt/Wo6tjlU6J5TJ4j6mXT9dpUhqOH+SSfpxP8isfp6mxenM1ngT2AubFjV7JD1DQPmoTfgkHJpeG1oOJadqZtT9ailff4DzDqqU7w4UUpac22wfe9csKGbQXbbUp7w260NamxIoZksjwygcmyjwz6gXvdQkJAhdtWaGeczugOegA4ulHrcTLRFcqUVIXvausIEuiWR8c1t6GC8XKoIE5ZPyjHKC9MyE5+7LBKXaDy6SGZqankGkF7xPwe/bYZvU+vgupvzR5wi1YjI8glZWPhry7JKoDfAg8VSlxoCP/J20ZS8gNG24SMmj1dQBD7V3YVnAToa3bIjBXN6LxtmW6MwIaY4B8zj7Jgt7F6LXgaNXq3GAa7PRsxSAT/nXozPoJrQfMlowd30GVfwKLr3orrQ6UvjTbIaKKxi4ppP4IH41PaQSXbjLAFdIXpxPkgOPbn/+L2FY5BV8wZ3VhUoMateIE4JK2PImpYjxIdnAu5f1lV4o3WpXJxhmqEo3GQDhWdeRHzepjide/cOIjpLcG+jo1mWBmWAK/cHvx19DAE1H7tRShxxc7ixqNphATto/hQ/XuOYagXjO/W1HH2FsIk8BpsDqg7BISgc2sVIHqFiisDFTY9Vgyiyj44DNtwzsLbkvchvt5b5ZwKnTyGh/X5/AdkQK8P', 'languages': \"['deu']\", 'page_number': 12, 'category': 'CompositeElement'}, page_content='- menhang zum Parteiengeschehen gibt es noch die juristische Konstruktion sogenannter parteinaher Stiftungen. Dabei handelt es sich um Vereine, die durch jährliche Direkt-Zu- weisungen aus Mitteln des Bundeshaushaltes finanziert werden, im Jahr 2015 in der Grundförderung mit 95 Millio- nen EURO.\\n\\nInsgesamt handelt es sich bei dem derzeitigen System der Parteienfinanzierung um ein weitgehend verdecktes System, bei dem den Parteien ein Vielfaches der Mittel zufließt, wel- che im Parteiengesetz eigentlich als Höchstbetrag festgelegt sind. Nach der Rechtsprechung des Bundesverfassungsge-\\n\\n12\\n\\nProgramm für Deutschland | Demokratie und Grundwerte\\n\\nrichtes sind sowohl die Form dieser Finanzierung wie die Höhe der fließenden Mittel als verfassungswidrig einzustu- fen.\\n\\nDie verdeckte Parteienfinanzierung ist gänzlich aus dem Ruder gelaufen und macht mittlerweile jährlich etwa 600 Millionen EURO aus, also das Vierfache der eigentlichen – verfassungsgerichtlich gedeckelten – Parteienfinanzierung.\\n\\nDie AfD will, dass die gesamte staatliche Parteienfinan- zierung auf eine neue gesetzliche Grundlage gestellt wird. Oberster Maßstab für die Neuregelung ist eine transparen- te und summenmäßig begrenzte Zuschuss-Finanzierung ausschließlich an die Parteien nach Maßstäben der Recht- sprechung des Bundesverfassungsgerichtes. Alle Mittel der Parteienfinanzierung sind entgegen derzeitiger Praxis der unbeschränkten Kontrolle der Rechnungshöfe zu unter- werfen. Die Feststellungen des Rechnungshofes sind der Öffentlichkeit zugängig zu machen. Unabdingbar ist auch eine restriktive und Korruption vermeidende Neuordnung der Spendenregelungen. Ferner soll den deutschen Parteien die Beteiligung an Unternehmen sowie die Annahme von Firmen-Spenden verboten werden.'),\n",
       "  Document(id='5185d308-5aaf-446a-8e24-e74abf8d6f61', metadata={'party': 'AfD', 'element_id': '2f2866506e284149d501ba817578a2e0', 'file_directory': 'data', 'last_modified': '2025-05-09T18:59:53', 'source': 'data/Programm_AfD_Online_.pdf', 'page_number': 21, 'languages': \"['deu']\", 'category': 'CompositeElement', 'orig_elements': 'eJzVVt9P5DYQ/lesfSaRnWSTmDcq6CFV11bl+sSh1SSe7FokztZ22INr//eOnQB7B6raByohIZQZz+/v86yvv66wxwGN32i1OmUrybHmQuRJJXibFEVXJM26hITXWV1I2YkiK1cnbDWgBwUeyOfrqh1Hq7QBjy7KPdyPk9/sUG93njRruU6zmryWg4NWfkf6uhBpLUm/H7Xxwff6uuIyJdOsqlJxc8Ke5Ho9y7XI0vwVOdqTYuXuncch9PKr/oL91R5aXP1FB53ucaO0xdaP9j4YxAaWEwMDRic7bi0Mw+asO9/8YnptcJPuVbeK5ZvtBNvY5fVK4bS6iVrnN8OodKcxzjDj2Trh9Cc/ifp0LU/XefDek+fGTEODlqwyEWry+MXHSj5PnHet7dAwo9udZwoeJnaH9oBGoQ/+/n4fK/ykfR87+h67DBohmlIlyEueFLVaJ9BWZVLVyHklW1BKvSl2paxmrOoZm0XOxSJXskyrl/Js/26xO6BVaE7YNDA9sLPJUSrFCBbn6QMNst+007eELDQPkyN00Zr0GNGfwVrw+g4/hZCvIFsIqeq8aRMlQRGyWCaQYZNg2wq6rorXPH9bZMtUEHA85RHXWZKzVIu0fCEFy/eEaHaMaJYdo3OJoMjotQvXcWjDiqxkRbBkEhPZKp5kBaJsZFfKnL8pLILX8UItuDyKCxR5VqTypfiuoXnMyrplY7JznLxrd/HS/ckuJjvugU0khM9/h2NbA/BCEI6VwKRYt0VSg8qSvG1lnZetqLrqbXEUPNyaSs57cRFFLmY5r7OUv5Sj+btF8vfB+YAhFmFJMpjcw2RwR7Ck7EeLg7qFvfbQb5G8T9hHMBTMRmQ/oMO+J9Ch86QiVNkPYMKGHWZWOEffd6NlNAqL2vRIroaNwXILpPY4oX2AXR/U2rBLijSZLfMWfSjgktjUB0VI93h4HLxBTXHDfres6VE3+B9XOjFLZiqvE1DhoQWqSgAyngiRleuig66T/wvnRPEt6Z4eVnnNw5b/Xp7t3y3rzjUGvjyg9npLOF6E/wvTiDDEKauJVOZ5vyhwC7sSdkD3fLSzgXDae+w7qx3FI7YcCAq0Pf3IM3q/EUWIH6QjmoZk7hZ6YsVojjh7S76Y0hpzO+gb1hHCgZQHTaSn3DF5wuLzYaKoT3VdeQDvgLitd3QY3ht7Gjl9K4o+MItAw57fHuM3fTLo3aLfT11HlVDnlDwy/8Ix6oU68Ra2DTwW8cHqGDus2eTsMSl1H3scGDWtzTZ2uWRskB5GHj2b30cx6U8WFc3iaLgYRhEXOH19jMOMzybaATQFKm2uK4wjZorWcbxodzFKuaOAx+39MY3HKeYpn7BLVFvsRqNcvNSfp4wLvKIdQjlNE42irn12pX1k+3lHOZewkPafLvnN33G4J4Q=', 'filename': 'Programm_AfD_Online_.pdf', 'filetype': 'application/pdf'}, page_content='rungen.\\n\\nDie Bankenaufsicht muss vollständig in nationalen Händen liegen, unabhängig von vereinheitlichten EU-Standards. Die deutsche Bankenaufsicht sollte jederzeit in der Lage sein, Standards zur Eigenkapitalunterlegung von Geschäften auf- zustellen und durchzusetzen.\\n\\nAls Partei der sozialen Marktwirtschaft will die AfD errei- chen, dass in letzter Konsequenz Insolvenzen von Banken ohne Beteiligung des Steuerzahlers möglich sind. Die Haf- tung für falsches oder zu riskantes Handeln von Banken darf nicht durch das Argument der „Systemrelevanz“ unterlaufen werden. Systemrelevante Banken müssen im Fall einer dro- henden Insolvenz zunächst durch Verzehr des Eigenkapitals und dann durch Umwandlung von Fremdkapital in Eigenka- pital rekapitalisiert werden. Die fast unverzinslichen Spar- guthaben und Girokontenbestände sind davon unter allen\\n\\nDie AfD verlangt, dass\\n\\ndeutsche Banken nicht für Fehlentscheidungen ausländischer Banken in Mithaftung genommen werden dürfen. Deutsche Sparguthaben\\n\\ndürfen nicht dazu verwendet\\n\\nwerden, um im Ausland entstandene Risiken abzusichern.\\n\\n22\\n\\nProgramm für Deutschland | Europa und Euro\\n\\nUmständen auszunehmen. Fremdkapitalgeber, Manager und Gesellschafter der Banken müssen vor Spareinlegern oder gar Steuerzahlern in Haftung treten. Handlung und Haftung müssen beieinander bleiben.\\n\\nDie derzeitigen Eigenkapitalvorschriften für das Banken- wesen führen mittelfristig unweigerlich zu einer weiteren Eskalation der Bankenkrise. Deshalb fordern wir, dass Ban- ken auch für Staatsanleihen entsprechend dem realen Risiko Eigenkapital als Risikopuffer vorhalten. Es ist untragbar, dass Griechenland-Anleihen mit einem geringeren Risiko bewertet werden als Kredite für den deutschen Mittelstand. Ferner halten wir eine deutlich erhöhte Eigenkapitalquote für Banken, Hedgefonds und „Schattenbanken“ für unerläss- lich.'),\n",
       "  Document(id='09795c86-4709-41f9-ae59-b63c95d3c9b6', metadata={'last_modified': '2025-05-09T18:59:53', 'page_number': 87, 'party': 'Linke', 'filename': 'DIE_LINKE_Wahlprogramm_zur_Bundestagswahl_2021.pdf', 'languages': \"['deu']\", 'category': 'CompositeElement', 'element_id': 'f2a1d8ce6322627b0a21afbc1606a12e', 'filetype': 'application/pdf', 'source': 'data/DIE_LINKE_Wahlprogramm_zur_Bundestagswahl_2021.pdf', 'orig_elements': 'eJzdVMFum0AQ/ZURZ4MMBrz4lihua6WNoiZVDm6EBjPA1rBYu0sSO8q/dxZbVZJWvfVSyQfPzHuzb+aNvX72qKWOlM1l6S3Am2VFhmlc+SkmsR9HqfCLCDN/Fs2KLEoSzLLQm4DXkcUSLTLn2dv0vS6lQktmjFvc94PNG5J1YzmTimkwCxOmnSqPsrQNF2IRBiLj/K6Xyjryeh2HSZBOII1FML+fwK84mZ/iKAmiP8QjnhOe2RtLnRvmWj5Re7PDDXkvXKhkS3kpNW1sr/cOME5wqijsyOUuVsv88+rqcpnfYdPudF9r7Lr8MOj8fFAlGYu1eeRSHk2jMNiVlTcOpuoB63EBa6+kwbsfs8bmXV/KStK4XqYk/pQ/2W0oFkm2SGaOvWNmroauIM0oMXdqLT253Xli7hB2vxvVfeh7yyAGvHcu3QgxRXZunhTCj6tw44sSK38qZvOoisRMlNG/dS5JAzGBOAqE8+UYhSIJpi6M4lmQ/R6P6P/DNfHaNQUfiSU3bBZ8wsE02NoFnMu2HFQ94aJhVd+H6RRL4G1b4BAuW9mh2TSDPQALthbOhko7VLUxlokBXHC/40DNqSsMXYXGWCCpCJa6GfFpw3AoGf1FttK6HMWaKTUWpLiPpFMfTbUk7dDqiGpIWzBy08AjC+MOYxfUW4KHXkEE17o/8N1x3sD56hqqo0INX19JNW/eMsQs2Wvpg4XjM5aUIXtwD0tWX2HLkwdwJzW01ChSUKIBfscHLrATnMFi3FPFR0taHSf+cVKtW5ZMcEPKh+3fhz8beDhXPisKHGB7WvsRV459NNwMxQO/LnsnZYuK9fCXd7tngLsW13SlDB8Sdm53rHEpldmh2yuzZAff2CUW5TYYRk5XK1G7jstB92+HAD7fgn/bbW+gO7pZu3zw+o/gCrVGKx/o1l3cy/1PYInamQ==', 'file_directory': 'data'}, page_content='ierung vorantreiben.\\n\\nn Die Schuldenbremse ist volkswirtschaft- lich unsinnig und gehört abgeschafft.\\n\\nSie befördert die Privatisierung der öffent- lichen Infrastruktur, die häufig noch teurer für die Steuerzahler*innen ist, da die Allgemein- heit dann den privaten Investoren hohe Ren- diten finanzieren muss. Stattdessen müssen wieder Kredite im Umfang der Investi tionen möglich sein. Denn die Zinsen, die der Staat derzeit am Kapitalmarkt aufbringen muss, sind extrem niedrig, und eine gute Infrastruk- tur nützt auch noch unseren Enkelkindern. Deshalb ist es sinnvoll, die Finanzierung von Investitionen auch über Kredite zu strecken. Solange die Schulden bremse existiert und eine Tilgungsverpflichtung für die Coronakre- dite des Bundes besteht, muss die Tilgung auf mindestens fünfzig Jahre gestreckt wer- den. Aufwendungen für Zinszahlungen dürfen den Verschuldungsspielraum nicht zusätzlich einschränken. Dadurch wird der finanzielle Spielraum auch innerhalb der Schuldenbrem- se erweitert.\\n\\n87\\n\\nn Gerechter Haushalt: Bildung, Gesund\\xad heit und Klimaschutz statt Aufrüstung. Der Bundeshaushalt umfasst eine Erhöhung der Militärausgaben. Die Bundesregierung nähert sich weiter der Marke von 2 Prozent des BIP für Rüstungsausgaben. Diese Priori- t ätensetzung ist falsch. Wir lehnen das ent- schieden ab und fordern eine jährliche Sen- kung der Militärausgaben. Auch der Abbau klimaschädlicher Subventionen kann den Bundeshaushalt entlasten. Insgesamt sind Einsparungen im Umfang von 12 Milliarden Euro jährlich problemlos möglich.'),\n",
       "  Document(id='5a2dd5f2-cddd-464d-9180-576b49e4f940', metadata={'source': 'data/DIE_LINKE_Wahlprogramm_zur_Bundestagswahl_2021.pdf', 'party': 'Linke', 'last_modified': '2025-05-09T18:59:53', 'filetype': 'application/pdf', 'category': 'CompositeElement', 'languages': \"['deu']\", 'page_number': 87, 'element_id': '775110eb6264fe687ff0c1f82de7c3c6', 'file_directory': 'data', 'orig_elements': 'eJzdVNtu4zYQ/RVCj4UlyLJ8Ud62TQqkKRaLOm2BZgODEkcSYYkSeLETL/bfe0gp7m7b131ZQA/icC5nzpzh06eIOupJ2YMU0Q2LqtVytaYii7dFtYrzokhjXtSbuC7zNKWs3JYZjxYs6slywS1HzKeoGgYtpOKWTDh3/HVw9tCSbFoLy2aXJqvlGmHzzVkK2+Ii3y2TXQH7OEhlffDTU5anSbZgq22WrJ8X7Hou8iT153y5S4r/OQd/GCLzaiz1vpkP8oW6/cgrij7jopYdHYTUVNlBv3qH0MF8o3hP3nZ7f3f49f79w93hT952ox4azfv+cHH68KNTgozljTnj6pCl2TIZRR2FxlTjeBMIeIoEueg5WI099IOQtaRAL0LWcYqveFzubtbFzXrlo0dEHpTrS9Lw2m09WksvnrtIfXRZmua3kti+al0nSJWaekNMGstOQ3c0Z6mtqVpe25h1smqZU0YqJRv8CNZQ+9Glab3RlvESEL1nbRNf2L6OoelHabtA0r/1kOdLIYolxWWxE3G+oSLm1XoLUYg05bygzS77xnpYFX6+ebqe9TCdN6vNPP9sm2z/e578v0M97CGEkup5pIIwVQHTBy1P3EojSTvVMNjZ5FLXmOakC1LsXtUaILQ7WqcXITKog3JXQy9qgHosOY3wqUSlg9MeRtIXtEn6B2gLqSA/JODh+l3XNZCNVDHDlIGIKwUMio0BVih8AlWDxm87tMR+I/gK6a9qSEVdABz/vTMmQTVuLag13jLBCP9n0AZkD5p8JJM9+72v+dzuVEEyKwd1jds0YSEMoCXsljwqwP1LKqSb2vehqMet/7t48LxnD3yUlnc910ecXV1qqZoZ3oJhuQTDOLCGTAGSls0irBqqEGscoP3Dc8zANFNTF/bi0wFQIBprGpq+U0fqjkhKOqA0Le/KsN5kfDGFLe8mtD+/ceWHfBreeJVz0yH3VKr8gqiLY8BC1ZGQfz94cdI01vlFYfOTQi+oKr2mru08yq5BMXMiPdaeTOtLfyWOnwY9KH7UNE0URBo27QaUiuVrIRTPXHCe83lWWS/DApEybwlVfYEMf+GtBpE0gbbsTDr2ckrYO1efSQkXpnEF4efptTmZxWyuadLgH6RN6NO3YUZJnebOTw69gBoz6d9eglLQM5z1ZFOBsFsunMYVnlkR5PIm2K4Dg9d8gXu/GjqML+jqiwc7Zp5ffYbCwO9Xr+97rjV290SPfsc/P/8NSeGG/g==', 'filename': 'DIE_LINKE_Wahlprogramm_zur_Bundestagswahl_2021.pdf'}, page_content='ommenen Gelder sollen einerseits für nachhaltige Entwicklung in den Ländern des Südens und für globalen Klimaschutz und andererseits für den sozialökolo gischen Umbau unserer Industriegesellschaft genutzt werden.\\n\\nn Gemeindewirtschaftsteuer: Wir wollen die bisherige Gewerbesteuer in eine Gemein dewirtschaftsteuer umwandeln. Die Bemessungsgrundlage wird ausgeweitet (Pachten, Mieten, Leasingraten und Lizenz- gebühren werden berücksichtigt) und gut verdienende Selbstständige und Freiberuf- ler werden einbezogen. Dafür werden wir den Freibetrag auf 30.000 Euro anheben und die festgesetzte Steuer bei der Einkom- mensteuer berücksichtigen. Die Gewerbe- steuerumlage wird abgeschafft, was Städte und Gemeinden finanziell entlastet.\\n\\nn DIE LINKE setzt sich für die Abschaffung der Schaumweinsteuer ein.\\n\\nWas langfristig wirkt, muss auch lang\\xad fristig finanziert werden: Die Schulden- bremse und der Europäische Fiskalpakt blockieren langfristige Entwicklungen und sollen Privati sierung vorantreiben.\\n\\nn Die Schuldenbremse ist volkswirtschaft- lich unsinnig und gehört abgeschafft.\\n\\nSie befördert die Privatisierung der öffent- lichen Infrastruktur, die häufig noch teurer für die Steuerzahler*innen ist, da die Allgemein- heit dann den privaten Investoren hohe Ren- diten finanzieren muss. Stattdessen müssen wieder Kredite im Umfang der Investi tionen möglich sein. Denn die Zinsen, die der Staat derzeit am Kapitalmarkt aufbringen muss, sind extrem niedrig, und eine gute Infrastruk- tur nützt auch noch unseren Enkelkindern. Deshalb ist es sinnvoll, die Finanzierung von Investitionen auch über Kredite zu strecken. Solange die Schulden bremse existiert und eine Tilgungsverpflichtung für die Coronakre- dite des Bundes besteht, muss die Tilgung auf mindestens fünfzig Jahre gestreckt wer- den. Aufwendungen für Zinszahlungen dürfen den Verschuldungsspielraum nicht zusätzlich einschränken. Dadurch wird der finanzielle Spielraum auch innerhalb der Schuldenbrem- se erweitert.'),\n",
       "  Document(id='ed6dd0f0-4c87-4796-bc7f-d5bb57085eff', metadata={'source': 'data/DIE_LINKE_Wahlprogramm_zur_Bundestagswahl_2021.pdf', 'category': 'CompositeElement', 'filename': 'DIE_LINKE_Wahlprogramm_zur_Bundestagswahl_2021.pdf', 'last_modified': '2025-05-09T18:59:53', 'languages': \"['deu']\", 'filetype': 'application/pdf', 'orig_elements': 'eJxtUk1r40AM/SvC59g4aWLsHMNml7LbEGhLDmkwE49si47lMDPeNCn976txwl52weDRx5Pek7T/jNBgh+xL0tESogrrNM91FWc15vH8mFVxkRZVXOVFkaXFbD6d6WgCUYdeaeWVYD6jqu+tJlYe3WgbdekHX7ZITevFk+Vp8jBdCOweOZP2rQTm+TTJC/GfemIfwPv9IkvEMy2yJD9M4G7OikWSBlMIJPm/9i1dHJG7OI9dkLKlDzTPJ1Vh9CWBmgyWmixWvreXkDDyv0dYdRh83x7X5a/Hzc91uVOtOdm+sarryutgy9XAGp1XjTtLqJyls2ly0nU0yuJmUM0ofx9pHKLD6HW+7HpNNeE4XIEs4lS+4mWaLxfFcvEQ0CdBljx0R7SSleeBrcePMLmI34ZZms6fyIMmdMjwhK1FYlatrA3e34Y0rTNmeZ/Jgpb/mth5wgaIQTIRXG9IK0uuahF+SBVjAkxpEI+qPdSyPL4SWuQlHNE5eQnqSsogPJPAbAyyTj+BTtrDFq3rWZnQYUVGD9xMQmGZUMgC+cO2Ntjg+AwkGDY4yPSsB+qgkZsjjoFH+pW/UiMZu75lKeWOapjASlkbGNWi9m/R/8njO9PbJN570zejUobXTioJxsKOrL9pTeCVR3nf5WbRSrtQgKR2I3TFkgNpGW/tLCpD0kygSdiUv5zGK9kIN+XpN76ENX0d/gDM3hST', 'party': 'Linke', 'element_id': 'f6193a0090742d7c9538f6026cc4480b', 'page_number': 88, 'file_directory': 'data'}, page_content='elkindern. Deshalb ist es sinnvoll, die Finanzierung von Investitionen auch über Kredite zu strecken. Solange die Schulden bremse existiert und eine Tilgungsverpflichtung für die Coronakre- dite des Bundes besteht, muss die Tilgung auf mindestens fünfzig Jahre gestreckt wer- den. Aufwendungen für Zinszahlungen dürfen den Verschuldungsspielraum nicht zusätzlich einschränken. Dadurch wird der finanzielle Spielraum auch innerhalb der Schuldenbrem- se erweitert.\\n\\n87\\n\\nn Gerechter Haushalt: Bildung, Gesund\\xad heit und Klimaschutz statt Aufrüstung. Der Bundeshaushalt umfasst eine Erhöhung der Militärausgaben. Die Bundesregierung nähert sich weiter der Marke von 2 Prozent des BIP für Rüstungsausgaben. Diese Priori- t ätensetzung ist falsch. Wir lehnen das ent- schieden ab und fordern eine jährliche Sen- kung der Militärausgaben. Auch der Abbau klimaschädlicher Subventionen kann den Bundeshaushalt entlasten. Insgesamt sind Einsparungen im Umfang von 12 Milliarden Euro jährlich problemlos möglich.\\n\\nn Mit diesen Mehreinnahmen können wir den Einstieg in eine solidarische Gesell\\xad schaft finanzieren: bessere soziale Sicher- heit, mehr Personal in Bildung, Gesundheit und Pflege und einen Neustart im gemein- nützigen Wohnungsbau, Barrierefreiheit und den Einstieg in einen sozialökologischen Umbau der Wirtschaft. Unsere Forderungen sind gegengerechnet und realistisch.'),\n",
       "  Document(id='92531164-ab2a-4a5d-b9df-6979438b9397', metadata={'orig_elements': 'eJx1U9tqG0EM/RWxz9lls7YT289uUwiUQEILcYMZ72h2heeyzMWOHfLv1azd0isYY0lH0jln5PVbgRoN2rghWSyhkDXOcXvdlG2zvSmn01qVYtpuy8lk2ypUi9uJmhdXUBiMQooouOetaJ3zkqyIGMZYi6NLcdMjdX3kzHx6Xc0X3HUpHEjGnvOzxaxqbm+4MDiyMTev17d1xdCm4ZaXK7iEk+v6HM4m82r2d3yGc6IIxxDRZCkP9Ir6cRAtFu9cUKRxI8ljG50/jloz/0vFCoM59/iwKp/TLlkVw+Bd54Ux1SBVMbK3XRLdKHJdSEzFy5gNcWOcJEU4WtjUzays+bN4up4vZ4vlbJK7B+7c2GS26BnVNJlTxNfsT7ESPXroSEdQ31Jdq9ZDsmEJK0L4yM7aE6FPtgPJOLIgCQMa+JMpKOdN0oyNaOGx7Q/oh2R3EYFd0SwTDuQhUMv7KliJUwKGyEuep8IevRIh8K7AVvVRMxbMSOqmy0EePBBqn3M4TQbhlDzce5QURVIlWNFz0qZ4QluNEjocZyF8ycxIZyV7Z+ED2Z0zfH6sVubij0WcoRABySLcsXC5d16kEDCWvI27f9qUuT+nIPKUXrCB7Btv83DHDmkd2l6oeGbBZns2jds1ZiH/ZlPC//lYbuNvlhvciYQenKZIvAO2yER22Z8rthdHtEhcOA/YOevMCEyWHbZn9vx01J259Y755KUHpIj+INo+oJUI986yjdGLSExRYvidVuAtKvtEHcIn1/b7X6tyfM8SeuKfnpnz2GwSgwN8zTtiMuNahoX8truYDyLuHR8LPDg+o6wTq3zB8TiM/5HPwmc6e3zK5/v+8h2PO3TF', 'filename': 'SPD-Zukunftsprogramm.pdf', 'party': 'SPD', 'source': 'data/SPD-Zukunftsprogramm.pdf', 'filetype': 'application/pdf', 'file_directory': 'data', 'category': 'CompositeElement', 'languages': \"['deu']\", 'page_number': 22, 'last_modified': '2025-05-09T18:59:53', 'element_id': 'dae87874bca9af3def42a9178c855e37'}, page_content='Wirtschaftsräumen verringert. Die sozial-ökologische Transformation erfordert umfangreiche Investitionen in den klimaneutralen Umbau industrieller Wertschöpfungsketten. Das Beihilferecht muss es dem Staat ermöglichen, den nötigen Kapitalein- satz in den Unternehmen mit öffentlichen Mitteln zu unterstützen und auf diese Weise Arbeits- plätze zu erhalten.\\n\\nSeite > 21\\n\\n2.7. Wie wir unsere Politik finanzieren wollen\\n\\nDie Corona-Pandemie hat gravierende Auswirkungen. Auch auf die öffentlichen Haushalte. Wäh- rend die Steuereinnahmen zurückgehen, sind die staatlichen Ausgaben gestiegen. Eine Politik der Austerität nach der Krise wäre ein völlig falscher Weg. Wer diesen Weg verfolgt, setzt unsere Zukunft aufs Spiel oder will harte Einschnitte in den Sozialstaat. Wir stehen für eine Finanz- und Haushaltspolitik, die die großen Zukunftsinvestitionen finanziert und so zukunftsfähige Arbeits- plätze schafft, ein klimaneutrales Wachstum ermöglicht und den gesellschaftlichen Zusammen- halt stärkt.\\n\\nDaher gilt für uns: Die Finanzierung der in diesem Zukunftsprogramm formulierten Schwerpunkte stellen wir sicher. Dazu werden wir die verfassungsrechtlich möglichen Spielräume zur Kreditauf- nahme nutzen. Die gerechte Verteilung von Einkommen und Vermögen ist eine Grundvorausset- zung für den Zusammenhalt unserer Gesellschaft. Die extrem ungleiche Verteilung von Einkom- men und Vermögen ist nicht nur sozialpolitisch bedenklich, sie ist auch ökonomisch unvernünftig. Die hohe und weiterwachsende Konzentration des Vermögens auf einige Hochvermögende ver- hindert nachhaltiges Wachstum und verschenkt wertvolle Potenziale.'),\n",
       "  Document(id='0fbc7b73-e017-4787-a33b-c91b00fb1b93', metadata={'page_number': 22, 'source': 'data/SPD-Zukunftsprogramm.pdf', 'element_id': 'afae620da30cdb8463f690d706f833dc', 'filename': 'SPD-Zukunftsprogramm.pdf', 'category': 'CompositeElement', 'languages': \"['deu']\", 'file_directory': 'data', 'orig_elements': 'eJxtU11v2zAM/CuEn1ogNpzEbpK+DevQh2FDsLYYsLQI5Ii2hViSp4+kSdH/PkpxtnUd4AeL5JF3R2n1kmCHEpVbC55cQ5JjNWeL+SKdVvksLTYFT1m+qNKyGF/VbF7NyrxIRpBIdIwzxwjzkmy0Nlwo5tDGc8cO2rt1i6JpHUXmxTibLwg1JPaCu5bi5aLMJrMrSvRaKBfAq9Usz6h0Op5nxdMIhmMxnWZlOJbTWTZ5fz6VUyCxB+tQBilL8YzdXc82mLxSohYdrrkwuHHaHEJB5D9kFJMYYnfLm/SH33pVO9sb3RgmZdbzOonsVeNZE0WuEo4+eYpR69ZSc1ELjBZO8kmZ5vQt7sfz63JxXU4DuifkWnlZoaGqySRwcvgc/Em+CwN7NBwVcDRw59CjaZC4tk40WxQObrFzXjWwQ2M3Latrqn30k3w8HcpbchDNUWAbyoR1QDgFn9mOdYJAKbXuxNZl1Koh8H9QoyFIMyQKHvp4xYdghc745kxzT4y3Wln86enywE4T3RZVBkFKyyoqaQyq46PP83pTRdKGdKDi+FufdSyKsmQfdh1G8R/Uke4N9nUnSD0RIH4p7LUJigOdgQGJQ6A7J7RiBP0HRtn6NJvGDrTODguEB9mcfAoTbw21RUPpykZmcHHXMoNwg6yzl1BhYE1Nbij1IC1zR/u3JRUKstl4a0kEqdq0YTIWNakF5mtAb3R/ignKUpdPZBCCJMjQ3Q3saAjRi8yvwo5dkINwb5iyPQuOxtWGzTae3ht8Ec5hNwIv4SFYpbCl5wzipHM52HH0cEq8ceLdtqWIrVG+Y6DgG/baOEFVjdEhzWs0I4j357wGYA1dtaDHvGFDPflJvwzHi6WvqCt81LRdc0irQ3r+/TPmMguvxh36+C6/MmNoyA7vw5N5ffoFEvmgPQ==', 'filetype': 'application/pdf', 'party': 'SPD', 'last_modified': '2025-05-09T18:59:53'}, page_content='Krise wäre ein völlig falscher Weg. Wer diesen Weg verfolgt, setzt unsere Zukunft aufs Spiel oder will harte Einschnitte in den Sozialstaat. Wir stehen für eine Finanz- und Haushaltspolitik, die die großen Zukunftsinvestitionen finanziert und so zukunftsfähige Arbeits- plätze schafft, ein klimaneutrales Wachstum ermöglicht und den gesellschaftlichen Zusammen- halt stärkt.\\n\\nDaher gilt für uns: Die Finanzierung der in diesem Zukunftsprogramm formulierten Schwerpunkte stellen wir sicher. Dazu werden wir die verfassungsrechtlich möglichen Spielräume zur Kreditauf- nahme nutzen. Die gerechte Verteilung von Einkommen und Vermögen ist eine Grundvorausset- zung für den Zusammenhalt unserer Gesellschaft. Die extrem ungleiche Verteilung von Einkom- men und Vermögen ist nicht nur sozialpolitisch bedenklich, sie ist auch ökonomisch unvernünftig. Die hohe und weiterwachsende Konzentration des Vermögens auf einige Hochvermögende ver- hindert nachhaltiges Wachstum und verschenkt wertvolle Potenziale.\\n\\nWir werden der Steuergerechtigkeit Geltung verschaffen – Steuerhinterziehung ist kein Kavaliers- delikt. Gegen Steuerhinterziehung, Steuervermeidung und Steuerbetrug werden wir konsequent vorgehen. Wir haben grenzüberschreitende Steuergestaltungsmodelle der Anzeigepflicht unter- worfen und werden eine nationale Anzeigepflicht einführen. Wir werden die Umgehung der Grunderwerbsteuer (Share Deals) beenden. Der Umsatzsteuerbetrug bei Karussellgeschäften auf europäischer Ebene muss beendet werden. Die öffentliche Transparenz ist ein gutes Mittel, um Unternehmen in die Pflicht zu nehmen. Wir werden Steuervermeidung mit einem öffentlichen Reporting großer, international agierender Unternehmen eindämmen (Public Country-by-Country- Reporting).'),\n",
       "  Document(id='afb330b7-1cc9-4d60-a850-a39f755445a5', metadata={'element_id': '76c9dc02aa9fc5062290a7c6c7409b35', 'last_modified': '2025-05-09T18:59:53', 'orig_elements': 'eJxtVO9v2zYQ/VcO+rQBsSE7cWLnW7sEWbduCJpuAZoGAS2dJMIUaZDHpHHR/33vJGVtsAE2bJL34917d3f3tWDHPXt5sHVxTkVTbzbL6mw5Wy3OytnJ8bKeGT5dz9aVKVebulyXi9PiiIqexdRGDHy+FlUIsbbeCKfh7MxzyPLQsW07wc36ZDFfb+A1PTzZWjrcrzar+fLsFA/7YL2o893dWTmH6fKknK/vj2g6npRn43F1vJkv/nsezXFRpOck3Gsp1/YLu5u9qbj4hofGOn6obeRKQnxWgwH/9OJNz3p3c30x+5R32TeS9jG00fT9fF83xYDet9m0Q5F3Rc25uB9ukzz0obaN5YHCZblczUp8Nh8X6/PV5nx1rN57eD743G85wmqxUUzCX5Sf4sIyvfOPnMSKDZ491Rzpcy7L5rRpoI6zVYfbX42vyXp6wlFsy/QCtWGnHp3ZwoqtZzrAKxrH9JaBdEaSfTunWxvpiWOtGUw60li15QTX99za5IzkuOdoQ830GDxln6jOsepQNctB+Ii60L0Cm7x9ZJOBONHb7PWnt4Kv/hVGgFVJf1jnrBnyXuYYCNTSb6ZTMFaQvQlRNAFrypoOueYeCA+ZtmwBPoI8f6SYEyUUT8ahtCTGvFBzicrxo6nbGJS6ukHgH4HuomkEAYWtA3n+NR2Q4C8PLEkG3is5gLGBhCQx70BMqronMyT7ALJGmZSbwfcKU2Q9TJAjmdy0kIL+5rjlBHo1lAoUB0fI4jW3TOYvCeinqw+3P9OjgmAZIV5CohctI73ZCcMOpPSvSmt5RgjGCi6B+QHS76Hvs6L8nJfl4phsF/l/COnHegFTGysSx844mZQY2eCTuFMwV47BNhiDJNp+7xmsJ+DtRisn3iIO9BtU4ugJS2AUQ8jkqjunm3Cw2pfoeZ8EAZO2pnI54ojod/La4GS2U1zf2lEK5bDBpvEHy05ZfD/5p2a07Gy7Q0sNhlP9lCDMnC6GbooKYiq0caOPXtRcoUKt16DUofQOw+Zeh/7O6Zze9Zg+3GimX0KEqrNreHAP5sc51ByYdsBJU58z3VRdtAL6mFqsUPR07r8LpSWO/Jic2iEIQOv8Gx2lsRv8uBdUgDjFEwILGA/Yo98CUMSEQUVrai9VXcZ2UEX/TQRGeoMhGKf5jZPJyINz9D13vWb7NIzhNCBaDeaPrmPYOp1ObccfHB9DHKayp5AEK0dfYHIbOq8kbk3WHeLc2PNwcGMdaLu57kd53g8b+E8ToxHslI+6HL/d/wM/EVJz', 'category': 'CompositeElement', 'filetype': 'application/pdf', 'source': 'data/SPD-Zukunftsprogramm.pdf', 'file_directory': 'data', 'languages': \"['deu']\", 'party': 'SPD', 'page_number': 19, 'filename': 'SPD-Zukunftsprogramm.pdf'}, page_content='e lange War- tezeiten allen zugänglich ist.\\n\\nInsgesamt werden wir für eine bedarfsgerechte Grundfinanzierung der Kliniken, den Erhalt der Versorgung inklusive den Ausbau der integrierten Versorgungszentren in den ländlichen Regionen sowie eine integrierte, bessere Notfallversorgung sorgen.\\n\\nSeite > 18\\n\\n2.5. Wie wir eine zukunftsfähige Wirtschaft fördern wollen\\n\\nViele bahnbrechende Entwicklungen der vergangenen Jahrzehnte hätte es ohne eine aktive und vorausschauend handelnde Politik nicht gegeben. Die Politik muss die langen Linien und die Rich- tung beschreiben und sich als Innovationstreiber verstehen. Sie muss die für die Wettbewerbsfä- higkeit und die nachhaltige Beschäftigung wesentlichen Ziele formulieren, auf die sich die Kräfte konzentrieren sollen. Wir brauchen den Staat als strategischen Investor, als Ordnungs- und Gestal- tungskraft zur Bewältigung der Herausforderungen unserer Zeit. Staat und Verwaltung müssen zum Innovationstreiber werden und ihre Nachfragemacht einsetzen.\\n\\nDie Investitionen der öffentlichen Hand in wichtige Zukunftsfelder haben eine zentrale Bedeu- tung. Wir werden das, in dieser Legislaturperiode von uns durchgesetzte, hohe Investitionsniveau des Bundes mit mindestens 50 Milliarden Euro pro Jahr weiter fortsetzen und zudem dazu bei- tragen, dass sich alle staatlichen Ebenen mit großer Investitionskraft beteiligen. Wir werden die Unterstützung von strukturschwachen Regionen durch die Gemeinschaftsaufgabe Verbesserung der regionalen Wirtschaftsstruktur (GRW) verstetigen. Ein zentraler Akteur beim Investitionsge- schehen sind die Kommunen – ihre Investitionskraft müssen wir erhalten und stärken. Gleichwer- tige Lebensverhältnisse zu sichern heißt auch: Soziale Dienstleistungen dürfen nicht abhängig von der finanziellen Leistungsfähigkeit der Kommune sein. Dazu brauchen wir flächendeckend starke und handlungsfähige Kommunen. Im Zuge der Corona-Pandemie haben wir bereits weitere Schrit- te getan, um Kommunen von Sozialausgaben zu entlasten. Ein nötiger Schritt ist, den besonders hoch verschuldeten Kommunen einmalig hohe Altschulden abzunehmen. Zudem werden wir das Problem der Altschulden vor allem ostdeutscher Wohnungsbaugesellschaften lösen.'),\n",
       "  Document(id='638a4ac1-bbd3-44b5-9614-a395775f2ddc', metadata={'file_directory': 'data', 'filetype': 'application/pdf', 'source': 'data/fdp-wahlprogramm_2025.pdf', 'party': 'FDP', 'element_id': 'b3cf6fc2b1bb426266c7092c8d1425fc', 'orig_elements': 'eJzVUsuOnDAQ/BXL5wHZPAaYD8gxijKrzGEyQgY3YC0YZJrMjlb772mbVbTKnnOIhISquqqfvr5yGGECi7XR/MR41ohKq1xEpU7KKNNZGjWqqyLdAchEyEIfj/zA+ASotEJFnlfezrPTxiqENeBRPeYN6wFMPyAxZSbjkkzv/N1oHIjOqzzOiF5mY9E7r9ekSmJ5YEUp4+p2YH8w/QJORe4zfcJBTwRfHyvC5Cf5Zl5gPC+qBf5Ggc6MUGvjoMXZPbwgtP8esWoCz3V6ie5qGBc3905NU52IJI8X3fHQvu031Ychr1zDxm+BXbGeZm06A2GF3hIJ+qonWZ7y6pSn3r2Qs7bb1IAjVZr7phBe/H54mnkFPpbQxJd5RhKR4O/rpIWSldRZVImmi7KmKqKmFCqShShl26qjTP7ldQoRlp3Gwu9+R1LmO8xlFlefcVD/V5c5frzM/ecmRNc6DZZpAww2Ny+eg8ys7QDsjKoxo8GdQ2bsyi7KPpO+ccb2YGN2MY4NqiHKUBZw7Ae4XvkYHQFZ916DreiAWHZuh22kig56GC3r4XnPPi0dUjawlt0p5UalrGkHZGpv7vuuH9SIYA9eowN/2e2D22y/btbMlvneDb0yG398eV+VcwrNL3jy47/dfgNCT0L6', 'page_number': 35, 'languages': \"['deu']\", 'category': 'CompositeElement', 'last_modified': '2025-05-09T18:59:53', 'filename': 'fdp-wahlprogramm_2025.pdf'}, page_content='n. Daher stehen wir für verantwortungsvolle und zukunftsorientierte Haushalts- und Finanzpolitik. Unser Ziel ist eine erfolgreiche Volkswirtschaft, die wächst und Wohlstand schafft.\\n\\nSchuldenbremse einhalten ist Generationengerechtigkeit\\n\\nFreiheit für künftige Generationen bedeutet auch, ihnen keine Schuldenberge zu hinterlassen. Daher ist für uns Freie Demokraten die Einhaltung der im Grundgesetz verankerten Schuldenbremse zentrales Gebot der Generationengerechtigkeit. Sonst haften Kinder für ihre Eltern. Diese gilt auch für die Bundesländer. Nachhaltige und priorisierende Haushalte schaffen Generationengerechtigkeit, weil Lasten nicht auf künftige Generationen übertragen werden. Nur so sichern wir die finanziellen Handlungsspielräume kommender Generationen. Deutschland muss Stabilitätsanker in Europa bleiben und mit gutem Beispiel vorangehen. Wir können es uns nicht erlauben, dass unsere Kreditwürdigkeit in Frage gestellt wird. Ausufernde Staatsschulden wie in Frankreich oder Italien\\n\\n34\\n\\nwürden die europäische Stabilität ins Wanken bringen. Wir haben in der Vergangenheit für strenge Schuldenregeln gekämpft. Wenn wir uns nicht an die Regeln halten, wird die Währungsunion scheitern.'),\n",
       "  Document(id='3e8648ca-29ba-40be-8f42-0d65c0ecd076', metadata={'orig_elements': 'eJzVVE1vnEgQ/SslzgNiGAYYH61sdveQKJKd+OBYo4YuoDRNw3Y3TDxR/nuqG3s3jqXcclgJ0VPV9fXeK+b+a4QKB9TuSDK6gmi7S6tcpDIus2wX53VaxnVTiTivSlnXWbEVeRZtIBrQCSmc4JyvUTOORpIWDm2wlXgcZ3fskbresafKt0nFSU/+M0nXs3t/2Cc5u6eRtPOZ9/dVlRQbyIo8KR828GyWxWru0q1PeGWHcHZE9tE6HDyOD/QF1c0kGoy+8UVLCo+SDDZuNI8+IAz/dKPFgN7Xyik+i15NZuyMGIZjlmb7ZJJtFIbX3Sy6APE+kjhHD8Fr3XEYJbWEgUCfEqf8HG631dX+cLXf+eyJM496Hmo0HLUr/FAOv3h2ojqBO9TUoYGbuV5YDBo1api1hAF7A++EOTlfxT1OYdBbcioA+1k+UZVtWdTIyh2qON8VdVy1OxlndXFoDrVscmx/o3xl6gOzwy7JvD6rmWdlUnlzn6VJ+dpew/+/8t2RgbcGCeENDuPJMI8azqPiwV7qeZnN5zlN26Y5taI3qDcgxUAO3jL5+tKTap9Uv3E4o0Ez+HjM/Vu21M264wAxt4DEJ1sDWosaLXxC06/BymmyvhecyTjb9KJ1ipqeM+8wOMIQxdRyOeiwNqLpHZzRSNQJY9AaJINZCD2Cd6QUCX8Hf8xmBOuEWOsZ+BOV5ENoP88FlUa4NkKHXh7GR+3QaOx5QcESOy7zANdIduLawBB89jUp6SfxArWGrKMOag/LcMSCbPPUCafxbnBhiaG0ZoJ+YNc+a44wrBx7XuC0/tatL3riMPxn5gS4IAUM3Ci0RMdSYGe4LS1MsOU9cUKxPzRjoRkH4CLU7Kf5l6xfSu+JsjU6JPUs3YJmFWleJeWqGy5GCiZDC2fD3wHyyMsRRFiJYOM/Kk2gkoUSNdILtKw3z86opLDwF6PoGYLlj4bllbwj14yFD6En4eOft49dLB/XZdBicC+3xjfTy4ro06vpvW7LqJ8qv8SqyfelgbeuQ/DiueTH/7D3wjBftOCt/46+PXwHs+MtUw==', 'languages': \"['deu']\", 'party': 'FDP', 'last_modified': '2025-05-09T18:59:53', 'category': 'CompositeElement', 'element_id': 'c745e480338a3de393f337bb9914271d', 'filename': 'fdp-wahlprogramm_2025.pdf', 'source': 'data/fdp-wahlprogramm_2025.pdf', 'filetype': 'application/pdf', 'page_number': 36, 'file_directory': 'data'}, page_content='rn wir die finanziellen Handlungsspielräume kommender Generationen. Deutschland muss Stabilitätsanker in Europa bleiben und mit gutem Beispiel vorangehen. Wir können es uns nicht erlauben, dass unsere Kreditwürdigkeit in Frage gestellt wird. Ausufernde Staatsschulden wie in Frankreich oder Italien\\n\\n34\\n\\nwürden die europäische Stabilität ins Wanken bringen. Wir haben in der Vergangenheit für strenge Schuldenregeln gekämpft. Wenn wir uns nicht an die Regeln halten, wird die Währungsunion scheitern.\\n\\nKeine Schulden auf europäischer Ebene\\n\\nWir Freie Demokraten sind strikt gegen eine Verschuldungskompetenz der Europäischen Union. Der EU-Wiederaufbaufonds Next Generation EU muss eine einmalige Ausnahme bleiben. Weitere EU- Schuldenfonds wären ein Rechts- und Vertrauensbruch. Die Europäische Union braucht keine neuen Schulden, sondern muss sich auf die Kernaufgaben mit europäischem Mehrwert besinnen. Wir Freie Demokraten positionieren uns deshalb dezidiert gegen eine Europäische Schuldenunion.\\n\\nb. Weniger Subventionen und mehr Markt\\n\\nWir Freie Demokraten wollen Subventionen zurückfahren, damit Finanzhilfen und Steuerermäßigungen auf ein angemessenes Verhältnis zur wirtschaftlichen Wertschöpfung gebracht werden. Denn die vielen Milliarden Euro staatlicher Gelder an einzelne Branchen und Unternehmen sind zum Beispiel in der Bildung langfristig besser investiert. Bestehende und neue Subventionsprogramme müssen künftig konsequent zeitlich befristet, degressiv ausgestaltet und extern evaluiert werden. Wir Freie Demokraten wollen Staatsbeteiligungen veräußern, weil private Investoren die besseren Unternehmer sind. Dabei müssen wir auch das Haushaltsrecht des Bundes anpassen, damit es einer gesamtwirtschaftlich sinnvollen Veräußerung von Bundesbeteiligungen nicht im Wege steht.'),\n",
       "  Document(id='c038b738-8c34-4ead-8777-408c09cd35ee', metadata={'party': 'FDP', 'orig_elements': 'eJzVVMtu21YQ/ZUB1yJB8SGJ3iXIo0UKo4ANZOEYwiXvkByIvCTuw4od5N8zQypO6jbddVHAC8/ceZw551B3XyIccETjj6SjK4j2+bYqUmzjKt2XcZEhxocs3cV1Vm53WZW3RV1EG4hG9Eorr7jnS9RMk9VklEe3xIN6nII/9khd7zlzKLbJgZsu+TNp33O6rMqk4PQ8kfHSeXe3T6VwlxVJeb+B72FermGeF0n6D/FSzonIPTqPo9zxJ33G4WZWDUZf+aGlAY+aLDZ+so9SsIC/vBg1ouRaPcdn1Q+znTqrxvGYpVmZzLqNFvCmC6pbTryLNIbofsk6fxwnTS3hQqC0xCn/Vbfbw1VZXZW5dM/ceTRhrNFyVV4KKI+fhZ3opunDoNHUFkeHgGR6NXg0QM7DezRolafJoOmQD+g9dSckL1P947wAvyU/LIe+lDPXVdpg2cb7bbGNi6pR8aFVTVxgtU2rgyq2mfrv5Sx2yfaHnPtduYZllif53+O1/P8r5zuLxFx5aD+FNG0bC6f1H9OydPgXRaFGXu3RgwpNvwHqJcnyGoRnW6DlrqcAPfOKliE6NAm8UT3axSLPe4JxINsR3uA4nXgJD9Mcvl0tFUwHWppGeG+D0Xw9+id4YDjmhFaqX3jxia1k1YCOUdeTX7p/6cgEbibDeHrVyqgPZKT8GR31lpGwsa2gJ94NHQ3r5T+qBO5rxoZukBQWMiSBa9X0coIQyK8wW5osOeL9XAC/qeCWjwZcw+tbXv9LmBs4Iw3wB0vNZYb4gTG0/6bS+sJCMBkdx2e0WjS4DhbcBI5n8FVwphV/yx+PeSIc2IsMzeiBmXdu5oxdjwojwmkaRzQvGWVq2BB8BRtUwxicgxuvahrIr63eLWIBGXgb7DQrqAekmjcJLyP7rmNDjfAaadkIDxPL22Evsz/SdzfujBzGwoppVhLEW4EHbUCzx+SBaYMPFjX580UfvXIo298JF8Ae8nyol+N1Aq+CCy1zwZowbOWduxiK3/HSZU7sUdZ8ktt/92ogND//ml0rK2w84K18UV/vvwFJ7DOq', 'source': 'data/fdp-wahlprogramm_2025.pdf', 'file_directory': 'data', 'languages': \"['deu']\", 'last_modified': '2025-05-09T18:59:53', 'category': 'CompositeElement', 'element_id': 'f568036f0b2885b99aa76b17af5dc529', 'filename': 'fdp-wahlprogramm_2025.pdf', 'page_number': 35, 'filetype': 'application/pdf'}, page_content='lle Generationen vor den Lasten einer überbordenden Staatsverschuldung und den Auswirkungen des demographischen Wandels bewahren. Subventionierungen für Wenige schneiden wir zurück, dafür schaffen wir bessere Standortbedingungen für alle. Dort, wo wir wirklich auf einen gut funktionieren Staat angewiesen sind, muss er besser ausgestattet sein. Der Föderalismus muss einfacher und der Staat schlanker und effizienter werden. Mit klaren Zuständigkeiten wollen wir das Zusammenspiel von Bund und Ländern vom Hindernis zum Standortvorteil upgraden. In Deutschland muss sich vieles ändern. Der Staat ist dabei vielleicht die größte Baustelle. Wir haben es in der Hand, das zu ändern.\\n\\na. Solide Staatsfinanzen\\n\\nWir Freie Demokraten wollen künftige Generationen vor den Lasten einer überbordenden Staatsverschuldung schützen. Daher stehen wir für verantwortungsvolle und zukunftsorientierte Haushalts- und Finanzpolitik. Unser Ziel ist eine erfolgreiche Volkswirtschaft, die wächst und Wohlstand schafft.\\n\\nSchuldenbremse einhalten ist Generationengerechtigkeit\\n\\nFreiheit für künftige Generationen bedeutet auch, ihnen keine Schuldenberge zu hinterlassen. Daher ist für uns Freie Demokraten die Einhaltung der im Grundgesetz verankerten Schuldenbremse zentrales Gebot der Generationengerechtigkeit. Sonst haften Kinder für ihre Eltern. Diese gilt auch für die Bundesländer. Nachhaltige und priorisierende Haushalte schaffen Generationengerechtigkeit, weil Lasten nicht auf künftige Generationen übertragen werden. Nur so sichern wir die finanziellen Handlungsspielräume kommender Generationen. Deutschland muss Stabilitätsanker in Europa bleiben und mit gutem Beispiel vorangehen. Wir können es uns nicht erlauben, dass unsere Kreditwürdigkeit in Frage gestellt wird. Ausufernde Staatsschulden wie in Frankreich oder Italien')],\n",
       " 'answer': 'Hier ist eine Übersicht der Positionen der Parteien zur Schuldenbremse und zu Investitionen:\\n\\n**CDU:** Die CDU befürwortet die Schuldenbremse als ein zentrales Element der Generationengerechtigkeit. Sie setzt sich für eine solide Haushaltspolitik ein, die sicherstellt, dass die Staatsfinanzen nachhaltig und verantwortungsvoll geführt werden. Investitionen sollen effizient und zielgerichtet eingesetzt werden, um die finanziellen Handlungsspielräume für zukünftige Generationen zu sichern.\\n\\n**SPD:** Die SPD lehnt eine strikte Austeritätspolitik ab und sieht die Schuldenbremse als hinderlich für notwendige Investitionen in die Zukunft. Sie fordert, die verfassungsrechtlichen Spielräume zur Kreditaufnahme zu nutzen, um große Zukunftsinvestitionen zu finanzieren und so zukunftsfähige Arbeitsplätze zu schaffen.\\n\\n**Grüne:** Die Grünen möchten die Schuldenbremse reformieren, um mehr finanzielle Spielräume für Investitionen in Klima- und Umweltschutz sowie in die Infrastruktur zu schaffen. Sie betonen die Notwendigkeit, in tragfähige Infrastrukturen zu investieren, um die Wettbewerbsfähigkeit Deutschlands zu sichern.\\n\\n**AfD:** Die AfD fordert eine Rückkehr zu ausgeglichenen Staatshaushalten und befürwortet die schrittweise Rückführung der öffentlichen Verschuldung. Sie sieht die Schuldenbremse als wichtiges Instrument, um die Lasten nicht auf zukünftige Generationen zu übertragen.\\n\\n**FDP:** Die FDP unterstützt die Schuldenbremse als zentrales Gebot der Generationengerechtigkeit und lehnt eine Verschuldungskompetenz der EU ab. Sie setzt sich für eine verantwortungsvolle Haushalts- und Finanzpolitik ein, die Investitionen in die Wirtschaft fördert, ohne die Staatsverschuldung zu erhöhen.\\n\\n**BSW:** Das Bündnis Sahra Wagenknecht fordert eine Abschaffung der Schuldenbremse, um mehr Spielraum für Investitionen in die öffentliche Infrastruktur und soziale Projekte zu schaffen. Sie kritisieren die aktuelle Politik als zu restriktiv und fordern eine Rückkehr zur Vernunft in der Finanzpolitik.\\n\\n**Linke:** Die Linke lehnt die Schuldenbremse ab und sieht sie als volkswirtschaftlich unsinnig an. Sie fordert, dass Investitionen auch über Kredite finanziert werden können, um die öffentliche Infrastruktur zu verbessern und soziale Gerechtigkeit zu fördern.\\n\\nInsgesamt zeigt sich, dass die CDU eine verantwortungsvolle und generationengerechte Haushaltspolitik verfolgt, während die SPD und die Linke eine flexiblere Handhabung der Schuldenbremse fordern, um notwendige Investitionen zu ermöglichen. Die Positionen der Grünen und der FDP betonen ebenfalls die Notwendigkeit von Investitionen, jedoch unter Berücksichtigung der Schuldenbremse. Die AfD und das BSW setzen sich für eine Rückführung der Verschuldung ein, wobei die AfD eine strikte Einhaltung der Schuldenbremse fordert.'}"
      ]
     },
     "execution_count": 42,
     "metadata": {},
     "output_type": "execute_result"
    }
   ],
   "source": [
    "retrieval_chain.invoke({\"input\": \"Was ist die Haltung der Parteien zur Schuldenbremse und zu Investitionen?\"})"
   ]
  },
  {
   "cell_type": "code",
   "execution_count": null,
   "id": "3edf64b4-905a-484a-b6f6-c2b2d1801277",
   "metadata": {},
   "outputs": [],
   "source": [
    "retrieval_chain.invoke({\"input\": \"Was ist die Haltung der Bierpartei zur Schuldenbremse und zu Investitionen?\"})"
   ]
  },
  {
   "cell_type": "code",
   "execution_count": null,
   "id": "910d57f5-2f99-45a0-8854-eec2b49b18be",
   "metadata": {},
   "outputs": [],
   "source": []
  }
 ],
 "metadata": {
  "kernelspec": {
   "display_name": "Python 3 (ipykernel)",
   "language": "python",
   "name": "python3"
  },
  "language_info": {
   "codemirror_mode": {
    "name": "ipython",
    "version": 3
   },
   "file_extension": ".py",
   "mimetype": "text/x-python",
   "name": "python",
   "nbconvert_exporter": "python",
   "pygments_lexer": "ipython3",
   "version": "3.11.6"
  }
 },
 "nbformat": 4,
 "nbformat_minor": 5
}
