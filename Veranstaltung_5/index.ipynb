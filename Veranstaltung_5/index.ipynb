{
 "cells": [
  {
   "cell_type": "markdown",
   "id": "1ac460f1",
   "metadata": {},
   "source": [
    "<a href=\"https://www.ki.fh-swf.de/jupyterhub/hub/user-redirect/git-pull?profile=nlp-environment&repo=https%3A%2F%2Fgithub.com%2Ffhswf%2FPraktikum_NLP.git&urlpath=lab%2Ftree%2FPraktikum_NLP.git%2FVeranstaltung_6%2Findex.ipynb&branch=main&profile=nlp-environment\" style=\"\"><img src=\"https://www.ki.fh-swf.de/cluster_badge.svg\" style=\"height: 32px\" alt=\"Open in FH Cluster\"></a>\n",
    "\n",
    "# Textzusammenfassung mit *Transformern*\n",
    "\n",
    "Seit ChatGPT sind von LLMs regelrecht „verwöhnt“. Was können einfachere Modelle im Vergleich dazu leisten, speziell für die deutsche Sprache?\n",
    "\n",
    "## Aufgabe 1: Zusammenfassung deutscher Texte mit vortrainierten Transformermodellen\n",
    "\n",
    "Im Verzeichnis `texte` gibt es einige (deutschsprachige) Textdateien. \n",
    "\n",
    "1. Auswahl geeigneter Modelle\n",
    "   \n",
    "   Auf dem [Model Hub](https://huggingface.co/models) gibt es eine ganze Reihe von Modellen für `Summarization`. Suchen Sie sich einige geeignete Kandidaten für **deutsche** Texte.\n",
    "\n",
    "2. Pipeline für die Zusammenfassung\n",
    "\n",
    "    Mithilfe der Huggingface-Bibliotheken ist das Erstellen einer `pipeline` für die Zusammenfassung ganz einfach:  \n",
    "\n",
    "    ```Python\n",
    "    from transformers import pipeline\n",
    "\n",
    "    summarizer = pipeline(\"summarization\", model=model_name)\n",
    "    summary = summarizer(text, max_length=250, min_length=25, do_sample=True)\n",
    "    \n",
    "    ```\n",
    "\n",
    "3. Zusammenfassung der Texte & Bewertung der Ergebnisse\n",
    "   Erstellen Sie mithilfe der Modelle Zusammenfassingen der Texte. Bewerten Sie in Ihren Gruppen die Ergebnisse.\n",
    "   Welche Einschränkungen stellen Sie fest?\n",
    "   \n",
    "## Aufgabe 2: Vergleich mit ChatGPT\n",
    "\n",
    "(Chat-)GPT ist zwar nicht speziell für die Zusammenfassung von Texten trainiert, kann das aber auch ganz gut.\n",
    "\n",
    "![](Summary_GPT4.png)\n",
    "\n",
    "Testen Sie die Zusammenfassung mittels ChatGPT und vergleichen Sie die Ergebnisse mit denen aus Aufgabe 1."
   ]
  },
  {
   "cell_type": "code",
   "execution_count": 14,
   "id": "06089111-22de-44e7-8da9-44377e4c1807",
   "metadata": {},
   "outputs": [
    {
     "data": {
      "application/vnd.jupyter.widget-view+json": {
       "model_id": "d2f0dbc57819417eafe2f80959d04478",
       "version_major": 2,
       "version_minor": 0
      },
      "text/plain": [
       "config.json:   0%|          | 0.00/1.50k [00:00<?, ?B/s]"
      ]
     },
     "metadata": {},
     "output_type": "display_data"
    },
    {
     "data": {
      "application/vnd.jupyter.widget-view+json": {
       "model_id": "64faf511512448f2846712705834f215",
       "version_major": 2,
       "version_minor": 0
      },
      "text/plain": [
       "pytorch_model.bin:   0%|          | 0.00/892M [00:00<?, ?B/s]"
      ]
     },
     "metadata": {},
     "output_type": "display_data"
    },
    {
     "data": {
      "application/vnd.jupyter.widget-view+json": {
       "model_id": "8fe98cbfe1b045fab3f09a5d032217ae",
       "version_major": 2,
       "version_minor": 0
      },
      "text/plain": [
       "tokenizer_config.json:   0%|          | 0.00/2.37k [00:00<?, ?B/s]"
      ]
     },
     "metadata": {},
     "output_type": "display_data"
    },
    {
     "data": {
      "application/vnd.jupyter.widget-view+json": {
       "model_id": "096972cf798b4088be7d6f651efe6ba2",
       "version_major": 2,
       "version_minor": 0
      },
      "text/plain": [
       "spiece.model:   0%|          | 0.00/792k [00:00<?, ?B/s]"
      ]
     },
     "metadata": {},
     "output_type": "display_data"
    },
    {
     "data": {
      "application/vnd.jupyter.widget-view+json": {
       "model_id": "2804465f46c246dbaf2e3f230f6b4e87",
       "version_major": 2,
       "version_minor": 0
      },
      "text/plain": [
       "tokenizer.json:   0%|          | 0.00/2.42M [00:00<?, ?B/s]"
      ]
     },
     "metadata": {},
     "output_type": "display_data"
    },
    {
     "data": {
      "application/vnd.jupyter.widget-view+json": {
       "model_id": "10dbf0398d47424c81e19673b978757f",
       "version_major": 2,
       "version_minor": 0
      },
      "text/plain": [
       "special_tokens_map.json:   0%|          | 0.00/2.20k [00:00<?, ?B/s]"
      ]
     },
     "metadata": {},
     "output_type": "display_data"
    },
    {
     "name": "stderr",
     "output_type": "stream",
     "text": [
      "Hardware accelerator e.g. GPU is available in the environment, but no `device` argument is passed to the `Pipeline` object. Model will be on CPU.\n"
     ]
    }
   ],
   "source": [
    "model_name = \"Einmalumdiewelt/T5-Base_GNAD\"\n",
    "\n",
    "from transformers import pipeline\n",
    "\n",
    "summarizer = pipeline(\"summarization\", model=model_name)"
   ]
  },
  {
   "cell_type": "code",
   "execution_count": 15,
   "id": "2416f6b3-270d-4001-a1b7-8da6f04072c4",
   "metadata": {},
   "outputs": [],
   "source": [
    "file = open(\"texte/fhswf.txt\")\n",
    "text = file.read()"
   ]
  },
  {
   "cell_type": "code",
   "execution_count": 16,
   "id": "1f3162b3-ee89-463a-a0b2-7f80ee4d703a",
   "metadata": {},
   "outputs": [
    {
     "name": "stderr",
     "output_type": "stream",
     "text": [
      "Token indices sequence length is longer than the specified maximum sequence length for this model (537 > 512). Running this sequence through the model will result in indexing errors\n"
     ]
    }
   ],
   "source": [
    "summary = summarizer(text, max_length=250, min_length=25, do_sample=True)"
   ]
  },
  {
   "cell_type": "code",
   "execution_count": 17,
   "id": "d36d241b-a61b-457e-a2df-855edf1a157d",
   "metadata": {},
   "outputs": [
    {
     "data": {
      "text/plain": [
       "[{'summary_text': 'Die Fachhochschule Südwestfalen ist eine ingenieurwissenschaftliche, informationelle und betriebs- und agrarwirtschaftlich geprägte Hochschule. Sie wurde im Jahr 2002 gegründet.'}]"
      ]
     },
     "execution_count": 17,
     "metadata": {},
     "output_type": "execute_result"
    }
   ],
   "source": [
    "summary"
   ]
  },
  {
   "cell_type": "code",
   "execution_count": null,
   "id": "f7556426-eba9-43e0-8c6c-c29c24a521d1",
   "metadata": {},
   "outputs": [],
   "source": []
  },
  {
   "cell_type": "code",
   "execution_count": null,
   "id": "53693cb6-66ea-4ce7-a41d-31ef989331da",
   "metadata": {},
   "outputs": [],
   "source": []
  }
 ],
 "metadata": {
  "kernelspec": {
   "display_name": "Python 3 (ipykernel)",
   "language": "python",
   "name": "python3"
  },
  "language_info": {
   "codemirror_mode": {
    "name": "ipython",
    "version": 3
   },
   "file_extension": ".py",
   "mimetype": "text/x-python",
   "name": "python",
   "nbconvert_exporter": "python",
   "pygments_lexer": "ipython3",
   "version": "3.11.6"
  }
 },
 "nbformat": 4,
 "nbformat_minor": 5
}
